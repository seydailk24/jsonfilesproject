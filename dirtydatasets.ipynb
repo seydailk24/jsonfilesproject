{
 "cells": [
  {
   "cell_type": "code",
   "execution_count": 25,
   "id": "ea59847a",
   "metadata": {},
   "outputs": [],
   "source": [
    "import numpy as np\n",
    "import pandas as pd\n",
    "import seaborn as sns \n",
    "import matplotlib.pyplot as plt"
   ]
  },
  {
   "cell_type": "code",
   "execution_count": 26,
   "id": "cddc7be4",
   "metadata": {},
   "outputs": [],
   "source": [
    "df1 = pd.read_json(\"brands.json\", lines=True)"
   ]
  },
  {
   "cell_type": "code",
   "execution_count": 84,
   "id": "f42cbb57",
   "metadata": {},
   "outputs": [],
   "source": [
    "df2 = pd.read_json(\"receipts.json\", lines=True)"
   ]
  },
  {
   "cell_type": "code",
   "execution_count": 28,
   "id": "a08a7905",
   "metadata": {},
   "outputs": [],
   "source": [
    "df3 = pd.read_json(\"users.json\", lines=True)"
   ]
  },
  {
   "cell_type": "code",
   "execution_count": 29,
   "id": "b0eab530",
   "metadata": {},
   "outputs": [
    {
     "data": {
      "text/plain": [
       "{'fields': [{'name': 'index', 'type': 'integer'},\n",
       "  {'name': '_id', 'type': 'string'},\n",
       "  {'name': 'barcode', 'type': 'integer'},\n",
       "  {'name': 'category', 'type': 'string'},\n",
       "  {'name': 'categoryCode', 'type': 'string'},\n",
       "  {'name': 'cpg', 'type': 'string'},\n",
       "  {'name': 'name', 'type': 'string'},\n",
       "  {'name': 'topBrand', 'type': 'number'},\n",
       "  {'name': 'brandCode', 'type': 'string'}],\n",
       " 'primaryKey': ['index'],\n",
       " 'pandas_version': '1.4.0'}"
      ]
     },
     "execution_count": 29,
     "metadata": {},
     "output_type": "execute_result"
    }
   ],
   "source": [
    "pd.io.json.build_table_schema(df1)"
   ]
  },
  {
   "cell_type": "code",
   "execution_count": 30,
   "id": "3a77a5ad",
   "metadata": {},
   "outputs": [
    {
     "data": {
      "text/plain": [
       "{'fields': [{'name': 'index', 'type': 'integer'},\n",
       "  {'name': '_id', 'type': 'string'},\n",
       "  {'name': 'bonusPointsEarned', 'type': 'number'},\n",
       "  {'name': 'bonusPointsEarnedReason', 'type': 'string'},\n",
       "  {'name': 'createDate', 'type': 'string'},\n",
       "  {'name': 'dateScanned', 'type': 'string'},\n",
       "  {'name': 'finishedDate', 'type': 'string'},\n",
       "  {'name': 'modifyDate', 'type': 'string'},\n",
       "  {'name': 'pointsAwardedDate', 'type': 'string'},\n",
       "  {'name': 'pointsEarned', 'type': 'number'},\n",
       "  {'name': 'purchaseDate', 'type': 'string'},\n",
       "  {'name': 'purchasedItemCount', 'type': 'number'},\n",
       "  {'name': 'rewardsReceiptItemList', 'type': 'string'},\n",
       "  {'name': 'rewardsReceiptStatus', 'type': 'string'},\n",
       "  {'name': 'totalSpent', 'type': 'number'},\n",
       "  {'name': 'userId', 'type': 'string'}],\n",
       " 'primaryKey': ['index'],\n",
       " 'pandas_version': '1.4.0'}"
      ]
     },
     "execution_count": 30,
     "metadata": {},
     "output_type": "execute_result"
    }
   ],
   "source": [
    "pd.io.json.build_table_schema(df2)"
   ]
  },
  {
   "cell_type": "code",
   "execution_count": 31,
   "id": "12bd4856",
   "metadata": {},
   "outputs": [
    {
     "data": {
      "text/plain": [
       "{'fields': [{'name': 'index', 'type': 'integer'},\n",
       "  {'name': '_id', 'type': 'string'},\n",
       "  {'name': 'active', 'type': 'boolean'},\n",
       "  {'name': 'createdDate', 'type': 'string'},\n",
       "  {'name': 'lastLogin', 'type': 'string'},\n",
       "  {'name': 'role', 'type': 'string'},\n",
       "  {'name': 'signUpSource', 'type': 'string'},\n",
       "  {'name': 'state', 'type': 'string'}],\n",
       " 'primaryKey': ['index'],\n",
       " 'pandas_version': '1.4.0'}"
      ]
     },
     "execution_count": 31,
     "metadata": {},
     "output_type": "execute_result"
    }
   ],
   "source": [
    "pd.io.json.build_table_schema(df3)"
   ]
  },
  {
   "cell_type": "code",
   "execution_count": 32,
   "id": "f9302f20",
   "metadata": {},
   "outputs": [
    {
     "data": {
      "text/html": [
       "<div>\n",
       "<style scoped>\n",
       "    .dataframe tbody tr th:only-of-type {\n",
       "        vertical-align: middle;\n",
       "    }\n",
       "\n",
       "    .dataframe tbody tr th {\n",
       "        vertical-align: top;\n",
       "    }\n",
       "\n",
       "    .dataframe thead th {\n",
       "        text-align: right;\n",
       "    }\n",
       "</style>\n",
       "<table border=\"1\" class=\"dataframe\">\n",
       "  <thead>\n",
       "    <tr style=\"text-align: right;\">\n",
       "      <th></th>\n",
       "      <th>count</th>\n",
       "      <th>mean</th>\n",
       "      <th>std</th>\n",
       "      <th>min</th>\n",
       "      <th>25%</th>\n",
       "      <th>50%</th>\n",
       "      <th>75%</th>\n",
       "      <th>max</th>\n",
       "    </tr>\n",
       "  </thead>\n",
       "  <tbody>\n",
       "    <tr>\n",
       "      <th>barcode</th>\n",
       "      <td>1167.0</td>\n",
       "      <td>5.111115e+11</td>\n",
       "      <td>287449.749081</td>\n",
       "      <td>5.111110e+11</td>\n",
       "      <td>5.111112e+11</td>\n",
       "      <td>5.111114e+11</td>\n",
       "      <td>5.111117e+11</td>\n",
       "      <td>5.111119e+11</td>\n",
       "    </tr>\n",
       "    <tr>\n",
       "      <th>topBrand</th>\n",
       "      <td>555.0</td>\n",
       "      <td>5.585586e-02</td>\n",
       "      <td>0.229850</td>\n",
       "      <td>0.000000e+00</td>\n",
       "      <td>0.000000e+00</td>\n",
       "      <td>0.000000e+00</td>\n",
       "      <td>0.000000e+00</td>\n",
       "      <td>1.000000e+00</td>\n",
       "    </tr>\n",
       "  </tbody>\n",
       "</table>\n",
       "</div>"
      ],
      "text/plain": [
       "           count          mean            std           min           25%  \\\n",
       "barcode   1167.0  5.111115e+11  287449.749081  5.111110e+11  5.111112e+11   \n",
       "topBrand   555.0  5.585586e-02       0.229850  0.000000e+00  0.000000e+00   \n",
       "\n",
       "                   50%           75%           max  \n",
       "barcode   5.111114e+11  5.111117e+11  5.111119e+11  \n",
       "topBrand  0.000000e+00  0.000000e+00  1.000000e+00  "
      ]
     },
     "execution_count": 32,
     "metadata": {},
     "output_type": "execute_result"
    }
   ],
   "source": [
    "df1.describe().T"
   ]
  },
  {
   "cell_type": "code",
   "execution_count": 33,
   "id": "07953501",
   "metadata": {},
   "outputs": [
    {
     "data": {
      "text/html": [
       "<div>\n",
       "<style scoped>\n",
       "    .dataframe tbody tr th:only-of-type {\n",
       "        vertical-align: middle;\n",
       "    }\n",
       "\n",
       "    .dataframe tbody tr th {\n",
       "        vertical-align: top;\n",
       "    }\n",
       "\n",
       "    .dataframe thead th {\n",
       "        text-align: right;\n",
       "    }\n",
       "</style>\n",
       "<table border=\"1\" class=\"dataframe\">\n",
       "  <thead>\n",
       "    <tr style=\"text-align: right;\">\n",
       "      <th></th>\n",
       "      <th>count</th>\n",
       "      <th>mean</th>\n",
       "      <th>std</th>\n",
       "      <th>min</th>\n",
       "      <th>25%</th>\n",
       "      <th>50%</th>\n",
       "      <th>75%</th>\n",
       "      <th>max</th>\n",
       "    </tr>\n",
       "  </thead>\n",
       "  <tbody>\n",
       "    <tr>\n",
       "      <th>bonusPointsEarned</th>\n",
       "      <td>544.0</td>\n",
       "      <td>238.893382</td>\n",
       "      <td>299.091731</td>\n",
       "      <td>5.0</td>\n",
       "      <td>5.0</td>\n",
       "      <td>45.0</td>\n",
       "      <td>500.00</td>\n",
       "      <td>750.00</td>\n",
       "    </tr>\n",
       "    <tr>\n",
       "      <th>pointsEarned</th>\n",
       "      <td>609.0</td>\n",
       "      <td>585.962890</td>\n",
       "      <td>1357.166947</td>\n",
       "      <td>0.0</td>\n",
       "      <td>5.0</td>\n",
       "      <td>150.0</td>\n",
       "      <td>750.00</td>\n",
       "      <td>10199.80</td>\n",
       "    </tr>\n",
       "    <tr>\n",
       "      <th>purchasedItemCount</th>\n",
       "      <td>635.0</td>\n",
       "      <td>14.757480</td>\n",
       "      <td>61.134240</td>\n",
       "      <td>0.0</td>\n",
       "      <td>1.0</td>\n",
       "      <td>2.0</td>\n",
       "      <td>5.00</td>\n",
       "      <td>689.00</td>\n",
       "    </tr>\n",
       "    <tr>\n",
       "      <th>totalSpent</th>\n",
       "      <td>684.0</td>\n",
       "      <td>77.796857</td>\n",
       "      <td>347.110349</td>\n",
       "      <td>0.0</td>\n",
       "      <td>1.0</td>\n",
       "      <td>18.2</td>\n",
       "      <td>34.96</td>\n",
       "      <td>4721.95</td>\n",
       "    </tr>\n",
       "  </tbody>\n",
       "</table>\n",
       "</div>"
      ],
      "text/plain": [
       "                    count        mean          std  min  25%    50%     75%  \\\n",
       "bonusPointsEarned   544.0  238.893382   299.091731  5.0  5.0   45.0  500.00   \n",
       "pointsEarned        609.0  585.962890  1357.166947  0.0  5.0  150.0  750.00   \n",
       "purchasedItemCount  635.0   14.757480    61.134240  0.0  1.0    2.0    5.00   \n",
       "totalSpent          684.0   77.796857   347.110349  0.0  1.0   18.2   34.96   \n",
       "\n",
       "                         max  \n",
       "bonusPointsEarned     750.00  \n",
       "pointsEarned        10199.80  \n",
       "purchasedItemCount    689.00  \n",
       "totalSpent           4721.95  "
      ]
     },
     "execution_count": 33,
     "metadata": {},
     "output_type": "execute_result"
    }
   ],
   "source": [
    "df2.describe().T"
   ]
  },
  {
   "cell_type": "code",
   "execution_count": 34,
   "id": "726106be",
   "metadata": {},
   "outputs": [
    {
     "data": {
      "text/html": [
       "<div>\n",
       "<style scoped>\n",
       "    .dataframe tbody tr th:only-of-type {\n",
       "        vertical-align: middle;\n",
       "    }\n",
       "\n",
       "    .dataframe tbody tr th {\n",
       "        vertical-align: top;\n",
       "    }\n",
       "\n",
       "    .dataframe thead th {\n",
       "        text-align: right;\n",
       "    }\n",
       "</style>\n",
       "<table border=\"1\" class=\"dataframe\">\n",
       "  <thead>\n",
       "    <tr style=\"text-align: right;\">\n",
       "      <th></th>\n",
       "      <th>count</th>\n",
       "      <th>unique</th>\n",
       "      <th>top</th>\n",
       "      <th>freq</th>\n",
       "    </tr>\n",
       "  </thead>\n",
       "  <tbody>\n",
       "    <tr>\n",
       "      <th>_id</th>\n",
       "      <td>495</td>\n",
       "      <td>212</td>\n",
       "      <td>{'$oid': '54943462e4b07e684157a532'}</td>\n",
       "      <td>20</td>\n",
       "    </tr>\n",
       "    <tr>\n",
       "      <th>active</th>\n",
       "      <td>495</td>\n",
       "      <td>2</td>\n",
       "      <td>True</td>\n",
       "      <td>494</td>\n",
       "    </tr>\n",
       "    <tr>\n",
       "      <th>createdDate</th>\n",
       "      <td>495</td>\n",
       "      <td>212</td>\n",
       "      <td>{'$date': 1418998882381}</td>\n",
       "      <td>20</td>\n",
       "    </tr>\n",
       "    <tr>\n",
       "      <th>lastLogin</th>\n",
       "      <td>433</td>\n",
       "      <td>172</td>\n",
       "      <td>{'$date': 1614963143204}</td>\n",
       "      <td>20</td>\n",
       "    </tr>\n",
       "    <tr>\n",
       "      <th>role</th>\n",
       "      <td>495</td>\n",
       "      <td>2</td>\n",
       "      <td>consumer</td>\n",
       "      <td>413</td>\n",
       "    </tr>\n",
       "    <tr>\n",
       "      <th>signUpSource</th>\n",
       "      <td>447</td>\n",
       "      <td>2</td>\n",
       "      <td>Email</td>\n",
       "      <td>443</td>\n",
       "    </tr>\n",
       "    <tr>\n",
       "      <th>state</th>\n",
       "      <td>439</td>\n",
       "      <td>8</td>\n",
       "      <td>WI</td>\n",
       "      <td>396</td>\n",
       "    </tr>\n",
       "  </tbody>\n",
       "</table>\n",
       "</div>"
      ],
      "text/plain": [
       "             count unique                                   top freq\n",
       "_id            495    212  {'$oid': '54943462e4b07e684157a532'}   20\n",
       "active         495      2                                  True  494\n",
       "createdDate    495    212              {'$date': 1418998882381}   20\n",
       "lastLogin      433    172              {'$date': 1614963143204}   20\n",
       "role           495      2                              consumer  413\n",
       "signUpSource   447      2                                 Email  443\n",
       "state          439      8                                    WI  396"
      ]
     },
     "execution_count": 34,
     "metadata": {},
     "output_type": "execute_result"
    }
   ],
   "source": [
    "df3.describe().T"
   ]
  },
  {
   "cell_type": "code",
   "execution_count": 35,
   "id": "e8d278af",
   "metadata": {},
   "outputs": [
    {
     "data": {
      "text/plain": [
       "(1167, 8)"
      ]
     },
     "execution_count": 35,
     "metadata": {},
     "output_type": "execute_result"
    }
   ],
   "source": [
    "df1.shape"
   ]
  },
  {
   "cell_type": "code",
   "execution_count": 36,
   "id": "19d48258",
   "metadata": {},
   "outputs": [
    {
     "name": "stdout",
     "output_type": "stream",
     "text": [
      "<class 'pandas.core.frame.DataFrame'>\n",
      "RangeIndex: 1167 entries, 0 to 1166\n",
      "Data columns (total 8 columns):\n",
      " #   Column        Non-Null Count  Dtype  \n",
      "---  ------        --------------  -----  \n",
      " 0   _id           1167 non-null   object \n",
      " 1   barcode       1167 non-null   int64  \n",
      " 2   category      1012 non-null   object \n",
      " 3   categoryCode  517 non-null    object \n",
      " 4   cpg           1167 non-null   object \n",
      " 5   name          1167 non-null   object \n",
      " 6   topBrand      555 non-null    float64\n",
      " 7   brandCode     933 non-null    object \n",
      "dtypes: float64(1), int64(1), object(6)\n",
      "memory usage: 73.1+ KB\n"
     ]
    }
   ],
   "source": [
    "df1.info()"
   ]
  },
  {
   "cell_type": "code",
   "execution_count": 37,
   "id": "c334d5ff",
   "metadata": {},
   "outputs": [
    {
     "data": {
      "text/html": [
       "<div>\n",
       "<style scoped>\n",
       "    .dataframe tbody tr th:only-of-type {\n",
       "        vertical-align: middle;\n",
       "    }\n",
       "\n",
       "    .dataframe tbody tr th {\n",
       "        vertical-align: top;\n",
       "    }\n",
       "\n",
       "    .dataframe thead th {\n",
       "        text-align: right;\n",
       "    }\n",
       "</style>\n",
       "<table border=\"1\" class=\"dataframe\">\n",
       "  <thead>\n",
       "    <tr style=\"text-align: right;\">\n",
       "      <th></th>\n",
       "      <th>_id</th>\n",
       "      <th>barcode</th>\n",
       "      <th>category</th>\n",
       "      <th>categoryCode</th>\n",
       "      <th>cpg</th>\n",
       "      <th>name</th>\n",
       "      <th>topBrand</th>\n",
       "      <th>brandCode</th>\n",
       "    </tr>\n",
       "  </thead>\n",
       "  <tbody>\n",
       "    <tr>\n",
       "      <th>0</th>\n",
       "      <td>{'$oid': '601ac115be37ce2ead437551'}</td>\n",
       "      <td>511111019862</td>\n",
       "      <td>Baking</td>\n",
       "      <td>BAKING</td>\n",
       "      <td>{'$id': {'$oid': '601ac114be37ce2ead437550'}, ...</td>\n",
       "      <td>test brand @1612366101024</td>\n",
       "      <td>0.0</td>\n",
       "      <td>NaN</td>\n",
       "    </tr>\n",
       "    <tr>\n",
       "      <th>1</th>\n",
       "      <td>{'$oid': '601c5460be37ce2ead43755f'}</td>\n",
       "      <td>511111519928</td>\n",
       "      <td>Beverages</td>\n",
       "      <td>BEVERAGES</td>\n",
       "      <td>{'$id': {'$oid': '5332f5fbe4b03c9a25efd0ba'}, ...</td>\n",
       "      <td>Starbucks</td>\n",
       "      <td>0.0</td>\n",
       "      <td>STARBUCKS</td>\n",
       "    </tr>\n",
       "    <tr>\n",
       "      <th>2</th>\n",
       "      <td>{'$oid': '601ac142be37ce2ead43755d'}</td>\n",
       "      <td>511111819905</td>\n",
       "      <td>Baking</td>\n",
       "      <td>BAKING</td>\n",
       "      <td>{'$id': {'$oid': '601ac142be37ce2ead437559'}, ...</td>\n",
       "      <td>test brand @1612366146176</td>\n",
       "      <td>0.0</td>\n",
       "      <td>TEST BRANDCODE @1612366146176</td>\n",
       "    </tr>\n",
       "    <tr>\n",
       "      <th>3</th>\n",
       "      <td>{'$oid': '601ac142be37ce2ead43755a'}</td>\n",
       "      <td>511111519874</td>\n",
       "      <td>Baking</td>\n",
       "      <td>BAKING</td>\n",
       "      <td>{'$id': {'$oid': '601ac142be37ce2ead437559'}, ...</td>\n",
       "      <td>test brand @1612366146051</td>\n",
       "      <td>0.0</td>\n",
       "      <td>TEST BRANDCODE @1612366146051</td>\n",
       "    </tr>\n",
       "    <tr>\n",
       "      <th>4</th>\n",
       "      <td>{'$oid': '601ac142be37ce2ead43755e'}</td>\n",
       "      <td>511111319917</td>\n",
       "      <td>Candy &amp; Sweets</td>\n",
       "      <td>CANDY_AND_SWEETS</td>\n",
       "      <td>{'$id': {'$oid': '5332fa12e4b03c9a25efd1e7'}, ...</td>\n",
       "      <td>test brand @1612366146827</td>\n",
       "      <td>0.0</td>\n",
       "      <td>TEST BRANDCODE @1612366146827</td>\n",
       "    </tr>\n",
       "  </tbody>\n",
       "</table>\n",
       "</div>"
      ],
      "text/plain": [
       "                                    _id       barcode        category  \\\n",
       "0  {'$oid': '601ac115be37ce2ead437551'}  511111019862          Baking   \n",
       "1  {'$oid': '601c5460be37ce2ead43755f'}  511111519928       Beverages   \n",
       "2  {'$oid': '601ac142be37ce2ead43755d'}  511111819905          Baking   \n",
       "3  {'$oid': '601ac142be37ce2ead43755a'}  511111519874          Baking   \n",
       "4  {'$oid': '601ac142be37ce2ead43755e'}  511111319917  Candy & Sweets   \n",
       "\n",
       "       categoryCode                                                cpg  \\\n",
       "0            BAKING  {'$id': {'$oid': '601ac114be37ce2ead437550'}, ...   \n",
       "1         BEVERAGES  {'$id': {'$oid': '5332f5fbe4b03c9a25efd0ba'}, ...   \n",
       "2            BAKING  {'$id': {'$oid': '601ac142be37ce2ead437559'}, ...   \n",
       "3            BAKING  {'$id': {'$oid': '601ac142be37ce2ead437559'}, ...   \n",
       "4  CANDY_AND_SWEETS  {'$id': {'$oid': '5332fa12e4b03c9a25efd1e7'}, ...   \n",
       "\n",
       "                        name  topBrand                      brandCode  \n",
       "0  test brand @1612366101024       0.0                            NaN  \n",
       "1                  Starbucks       0.0                      STARBUCKS  \n",
       "2  test brand @1612366146176       0.0  TEST BRANDCODE @1612366146176  \n",
       "3  test brand @1612366146051       0.0  TEST BRANDCODE @1612366146051  \n",
       "4  test brand @1612366146827       0.0  TEST BRANDCODE @1612366146827  "
      ]
     },
     "execution_count": 37,
     "metadata": {},
     "output_type": "execute_result"
    }
   ],
   "source": [
    "df1.head()"
   ]
  },
  {
   "cell_type": "code",
   "execution_count": 38,
   "id": "0b49bbcc",
   "metadata": {},
   "outputs": [],
   "source": [
    "df1.drop([\"brandCode\"],axis=1, inplace=True)"
   ]
  },
  {
   "cell_type": "markdown",
   "id": "13da50fb",
   "metadata": {},
   "source": [
    "# df1"
   ]
  },
  {
   "cell_type": "markdown",
   "id": "22ce04a7",
   "metadata": {},
   "source": [
    "name"
   ]
  },
  {
   "cell_type": "code",
   "execution_count": 39,
   "id": "2440cc64",
   "metadata": {},
   "outputs": [],
   "source": [
    "df1[\"name\"] = df1[\"name\"].apply(lambda x:x.split(\"@\")[0])"
   ]
  },
  {
   "cell_type": "code",
   "execution_count": 40,
   "id": "055a9a2a",
   "metadata": {},
   "outputs": [
    {
     "data": {
      "text/plain": [
       "test brand                          428\n",
       "Health Magazine                       2\n",
       "Huggies                               2\n",
       "I CAN'T BELIEVE IT'S NOT BUTTER!      2\n",
       "Dippin Dots® Cereal                   2\n",
       "                                   ... \n",
       "Kraft Cheese                          1\n",
       "Pepperidge Farm                       1\n",
       "Honest Tea                            1\n",
       "Pringles                              1\n",
       "LIPTON TEA Leaves                     1\n",
       "Name: name, Length: 729, dtype: int64"
      ]
     },
     "execution_count": 40,
     "metadata": {},
     "output_type": "execute_result"
    }
   ],
   "source": [
    "df1['name'].value_counts()"
   ]
  },
  {
   "cell_type": "markdown",
   "id": "bb837ffc",
   "metadata": {},
   "source": [
    "_id"
   ]
  },
  {
   "cell_type": "code",
   "execution_count": 41,
   "id": "6ca2eab9",
   "metadata": {},
   "outputs": [],
   "source": [
    "df1[\"_id\"]= df1[\"_id\"].apply(lambda x : x['$oid'] )"
   ]
  },
  {
   "cell_type": "code",
   "execution_count": 42,
   "id": "a0a7f853",
   "metadata": {},
   "outputs": [
    {
     "data": {
      "text/plain": [
       "601ac115be37ce2ead437551    1\n",
       "5ffe3a86be37ce7aab2d4fd5    1\n",
       "55a58727e4b0d0a65b3693cd    1\n",
       "5f493dabbe37ce64d0ae36bb    1\n",
       "5f493e72be37ce64d0ae36c1    1\n",
       "                           ..\n",
       "5f4802d2be37ce0c83033743    1\n",
       "5332f760e4b03c9a25efd11a    1\n",
       "5a8c35dde4b0ccf165fac9e6    1\n",
       "5f77274bbe37ce6b592e90bc    1\n",
       "6026d757be37ce6369301468    1\n",
       "Name: _id, Length: 1167, dtype: int64"
      ]
     },
     "execution_count": 42,
     "metadata": {},
     "output_type": "execute_result"
    }
   ],
   "source": [
    "df1['_id'].value_counts()"
   ]
  },
  {
   "cell_type": "markdown",
   "id": "c9fd338d",
   "metadata": {},
   "source": [
    "cpg"
   ]
  },
  {
   "cell_type": "code",
   "execution_count": 43,
   "id": "85340485",
   "metadata": {},
   "outputs": [
    {
     "data": {
      "text/plain": [
       "{'$id': {'$oid': '601ac114be37ce2ead437550'}, '$ref': 'Cogs'}"
      ]
     },
     "execution_count": 43,
     "metadata": {},
     "output_type": "execute_result"
    }
   ],
   "source": [
    "df1.cpg[0]"
   ]
  },
  {
   "cell_type": "code",
   "execution_count": 44,
   "id": "53619e76",
   "metadata": {},
   "outputs": [],
   "source": [
    "d = {'$id': {'$oid': '601ac114be37ce2ead437550'}, '$ref': 'Cogs'}"
   ]
  },
  {
   "cell_type": "code",
   "execution_count": 45,
   "id": "7b626da8",
   "metadata": {},
   "outputs": [
    {
     "data": {
      "text/plain": [
       "'601ac114be37ce2ead437550'"
      ]
     },
     "execution_count": 45,
     "metadata": {},
     "output_type": "execute_result"
    }
   ],
   "source": [
    "d['$id']['$oid']"
   ]
  },
  {
   "cell_type": "code",
   "execution_count": 46,
   "id": "ec33f980",
   "metadata": {},
   "outputs": [],
   "source": [
    "df1[\"cpg\"]= df1[\"cpg\"].apply(lambda d : d['$id']['$oid'] )"
   ]
  },
  {
   "cell_type": "code",
   "execution_count": null,
   "id": "2ecbb55a",
   "metadata": {},
   "outputs": [],
   "source": []
  },
  {
   "cell_type": "code",
   "execution_count": 51,
   "id": "36d4922d",
   "metadata": {},
   "outputs": [],
   "source": [
    "df1.drop(['categoryCode'], axis=1, inplace=True)"
   ]
  },
  {
   "cell_type": "code",
   "execution_count": 52,
   "id": "6e8de781",
   "metadata": {},
   "outputs": [
    {
     "data": {
      "text/html": [
       "<div>\n",
       "<style scoped>\n",
       "    .dataframe tbody tr th:only-of-type {\n",
       "        vertical-align: middle;\n",
       "    }\n",
       "\n",
       "    .dataframe tbody tr th {\n",
       "        vertical-align: top;\n",
       "    }\n",
       "\n",
       "    .dataframe thead th {\n",
       "        text-align: right;\n",
       "    }\n",
       "</style>\n",
       "<table border=\"1\" class=\"dataframe\">\n",
       "  <thead>\n",
       "    <tr style=\"text-align: right;\">\n",
       "      <th></th>\n",
       "      <th>_id</th>\n",
       "      <th>barcode</th>\n",
       "      <th>category</th>\n",
       "      <th>cpg</th>\n",
       "      <th>name</th>\n",
       "      <th>topBrand</th>\n",
       "    </tr>\n",
       "  </thead>\n",
       "  <tbody>\n",
       "    <tr>\n",
       "      <th>0</th>\n",
       "      <td>601ac115be37ce2ead437551</td>\n",
       "      <td>511111019862</td>\n",
       "      <td>Baking</td>\n",
       "      <td>601ac114be37ce2ead437550</td>\n",
       "      <td>test brand</td>\n",
       "      <td>0.0</td>\n",
       "    </tr>\n",
       "    <tr>\n",
       "      <th>1</th>\n",
       "      <td>601c5460be37ce2ead43755f</td>\n",
       "      <td>511111519928</td>\n",
       "      <td>Beverages</td>\n",
       "      <td>5332f5fbe4b03c9a25efd0ba</td>\n",
       "      <td>Starbucks</td>\n",
       "      <td>0.0</td>\n",
       "    </tr>\n",
       "    <tr>\n",
       "      <th>2</th>\n",
       "      <td>601ac142be37ce2ead43755d</td>\n",
       "      <td>511111819905</td>\n",
       "      <td>Baking</td>\n",
       "      <td>601ac142be37ce2ead437559</td>\n",
       "      <td>test brand</td>\n",
       "      <td>0.0</td>\n",
       "    </tr>\n",
       "    <tr>\n",
       "      <th>3</th>\n",
       "      <td>601ac142be37ce2ead43755a</td>\n",
       "      <td>511111519874</td>\n",
       "      <td>Baking</td>\n",
       "      <td>601ac142be37ce2ead437559</td>\n",
       "      <td>test brand</td>\n",
       "      <td>0.0</td>\n",
       "    </tr>\n",
       "    <tr>\n",
       "      <th>4</th>\n",
       "      <td>601ac142be37ce2ead43755e</td>\n",
       "      <td>511111319917</td>\n",
       "      <td>Candy &amp; Sweets</td>\n",
       "      <td>5332fa12e4b03c9a25efd1e7</td>\n",
       "      <td>test brand</td>\n",
       "      <td>0.0</td>\n",
       "    </tr>\n",
       "  </tbody>\n",
       "</table>\n",
       "</div>"
      ],
      "text/plain": [
       "                        _id       barcode        category  \\\n",
       "0  601ac115be37ce2ead437551  511111019862          Baking   \n",
       "1  601c5460be37ce2ead43755f  511111519928       Beverages   \n",
       "2  601ac142be37ce2ead43755d  511111819905          Baking   \n",
       "3  601ac142be37ce2ead43755a  511111519874          Baking   \n",
       "4  601ac142be37ce2ead43755e  511111319917  Candy & Sweets   \n",
       "\n",
       "                        cpg         name  topBrand  \n",
       "0  601ac114be37ce2ead437550  test brand        0.0  \n",
       "1  5332f5fbe4b03c9a25efd0ba    Starbucks       0.0  \n",
       "2  601ac142be37ce2ead437559  test brand        0.0  \n",
       "3  601ac142be37ce2ead437559  test brand        0.0  \n",
       "4  5332fa12e4b03c9a25efd1e7  test brand        0.0  "
      ]
     },
     "execution_count": 52,
     "metadata": {},
     "output_type": "execute_result"
    }
   ],
   "source": [
    "df1.head()"
   ]
  },
  {
   "cell_type": "code",
   "execution_count": null,
   "id": "18dd8f6f",
   "metadata": {},
   "outputs": [],
   "source": []
  },
  {
   "cell_type": "markdown",
   "id": "51a179c5",
   "metadata": {},
   "source": [
    "# df2¶"
   ]
  },
  {
   "cell_type": "code",
   "execution_count": 85,
   "id": "82583cf1",
   "metadata": {},
   "outputs": [
    {
     "data": {
      "text/html": [
       "<div>\n",
       "<style scoped>\n",
       "    .dataframe tbody tr th:only-of-type {\n",
       "        vertical-align: middle;\n",
       "    }\n",
       "\n",
       "    .dataframe tbody tr th {\n",
       "        vertical-align: top;\n",
       "    }\n",
       "\n",
       "    .dataframe thead th {\n",
       "        text-align: right;\n",
       "    }\n",
       "</style>\n",
       "<table border=\"1\" class=\"dataframe\">\n",
       "  <thead>\n",
       "    <tr style=\"text-align: right;\">\n",
       "      <th></th>\n",
       "      <th>_id</th>\n",
       "      <th>bonusPointsEarned</th>\n",
       "      <th>bonusPointsEarnedReason</th>\n",
       "      <th>createDate</th>\n",
       "      <th>dateScanned</th>\n",
       "      <th>finishedDate</th>\n",
       "      <th>modifyDate</th>\n",
       "      <th>pointsAwardedDate</th>\n",
       "      <th>pointsEarned</th>\n",
       "      <th>purchaseDate</th>\n",
       "      <th>purchasedItemCount</th>\n",
       "      <th>rewardsReceiptItemList</th>\n",
       "      <th>rewardsReceiptStatus</th>\n",
       "      <th>totalSpent</th>\n",
       "      <th>userId</th>\n",
       "    </tr>\n",
       "  </thead>\n",
       "  <tbody>\n",
       "    <tr>\n",
       "      <th>0</th>\n",
       "      <td>{'$oid': '5ff1e1eb0a720f0523000575'}</td>\n",
       "      <td>500.0</td>\n",
       "      <td>Receipt number 2 completed, bonus point schedu...</td>\n",
       "      <td>{'$date': 1609687531000}</td>\n",
       "      <td>{'$date': 1609687531000}</td>\n",
       "      <td>{'$date': 1609687531000}</td>\n",
       "      <td>{'$date': 1609687536000}</td>\n",
       "      <td>{'$date': 1609687531000}</td>\n",
       "      <td>500.0</td>\n",
       "      <td>{'$date': 1609632000000}</td>\n",
       "      <td>5.0</td>\n",
       "      <td>[{'barcode': '4011', 'description': 'ITEM NOT ...</td>\n",
       "      <td>FINISHED</td>\n",
       "      <td>26.0</td>\n",
       "      <td>5ff1e1eacfcf6c399c274ae6</td>\n",
       "    </tr>\n",
       "    <tr>\n",
       "      <th>1</th>\n",
       "      <td>{'$oid': '5ff1e1bb0a720f052300056b'}</td>\n",
       "      <td>150.0</td>\n",
       "      <td>Receipt number 5 completed, bonus point schedu...</td>\n",
       "      <td>{'$date': 1609687483000}</td>\n",
       "      <td>{'$date': 1609687483000}</td>\n",
       "      <td>{'$date': 1609687483000}</td>\n",
       "      <td>{'$date': 1609687488000}</td>\n",
       "      <td>{'$date': 1609687483000}</td>\n",
       "      <td>150.0</td>\n",
       "      <td>{'$date': 1609601083000}</td>\n",
       "      <td>2.0</td>\n",
       "      <td>[{'barcode': '4011', 'description': 'ITEM NOT ...</td>\n",
       "      <td>FINISHED</td>\n",
       "      <td>11.0</td>\n",
       "      <td>5ff1e194b6a9d73a3a9f1052</td>\n",
       "    </tr>\n",
       "    <tr>\n",
       "      <th>2</th>\n",
       "      <td>{'$oid': '5ff1e1f10a720f052300057a'}</td>\n",
       "      <td>5.0</td>\n",
       "      <td>All-receipts receipt bonus</td>\n",
       "      <td>{'$date': 1609687537000}</td>\n",
       "      <td>{'$date': 1609687537000}</td>\n",
       "      <td>NaN</td>\n",
       "      <td>{'$date': 1609687542000}</td>\n",
       "      <td>NaN</td>\n",
       "      <td>5.0</td>\n",
       "      <td>{'$date': 1609632000000}</td>\n",
       "      <td>1.0</td>\n",
       "      <td>[{'needsFetchReview': False, 'partnerItemId': ...</td>\n",
       "      <td>REJECTED</td>\n",
       "      <td>10.0</td>\n",
       "      <td>5ff1e1f1cfcf6c399c274b0b</td>\n",
       "    </tr>\n",
       "    <tr>\n",
       "      <th>3</th>\n",
       "      <td>{'$oid': '5ff1e1ee0a7214ada100056f'}</td>\n",
       "      <td>5.0</td>\n",
       "      <td>All-receipts receipt bonus</td>\n",
       "      <td>{'$date': 1609687534000}</td>\n",
       "      <td>{'$date': 1609687534000}</td>\n",
       "      <td>{'$date': 1609687534000}</td>\n",
       "      <td>{'$date': 1609687539000}</td>\n",
       "      <td>{'$date': 1609687534000}</td>\n",
       "      <td>5.0</td>\n",
       "      <td>{'$date': 1609632000000}</td>\n",
       "      <td>4.0</td>\n",
       "      <td>[{'barcode': '4011', 'description': 'ITEM NOT ...</td>\n",
       "      <td>FINISHED</td>\n",
       "      <td>28.0</td>\n",
       "      <td>5ff1e1eacfcf6c399c274ae6</td>\n",
       "    </tr>\n",
       "    <tr>\n",
       "      <th>4</th>\n",
       "      <td>{'$oid': '5ff1e1d20a7214ada1000561'}</td>\n",
       "      <td>5.0</td>\n",
       "      <td>All-receipts receipt bonus</td>\n",
       "      <td>{'$date': 1609687506000}</td>\n",
       "      <td>{'$date': 1609687506000}</td>\n",
       "      <td>{'$date': 1609687511000}</td>\n",
       "      <td>{'$date': 1609687511000}</td>\n",
       "      <td>{'$date': 1609687506000}</td>\n",
       "      <td>5.0</td>\n",
       "      <td>{'$date': 1609601106000}</td>\n",
       "      <td>2.0</td>\n",
       "      <td>[{'barcode': '4011', 'description': 'ITEM NOT ...</td>\n",
       "      <td>FINISHED</td>\n",
       "      <td>1.0</td>\n",
       "      <td>5ff1e194b6a9d73a3a9f1052</td>\n",
       "    </tr>\n",
       "  </tbody>\n",
       "</table>\n",
       "</div>"
      ],
      "text/plain": [
       "                                    _id  bonusPointsEarned  \\\n",
       "0  {'$oid': '5ff1e1eb0a720f0523000575'}              500.0   \n",
       "1  {'$oid': '5ff1e1bb0a720f052300056b'}              150.0   \n",
       "2  {'$oid': '5ff1e1f10a720f052300057a'}                5.0   \n",
       "3  {'$oid': '5ff1e1ee0a7214ada100056f'}                5.0   \n",
       "4  {'$oid': '5ff1e1d20a7214ada1000561'}                5.0   \n",
       "\n",
       "                             bonusPointsEarnedReason  \\\n",
       "0  Receipt number 2 completed, bonus point schedu...   \n",
       "1  Receipt number 5 completed, bonus point schedu...   \n",
       "2                         All-receipts receipt bonus   \n",
       "3                         All-receipts receipt bonus   \n",
       "4                         All-receipts receipt bonus   \n",
       "\n",
       "                 createDate               dateScanned  \\\n",
       "0  {'$date': 1609687531000}  {'$date': 1609687531000}   \n",
       "1  {'$date': 1609687483000}  {'$date': 1609687483000}   \n",
       "2  {'$date': 1609687537000}  {'$date': 1609687537000}   \n",
       "3  {'$date': 1609687534000}  {'$date': 1609687534000}   \n",
       "4  {'$date': 1609687506000}  {'$date': 1609687506000}   \n",
       "\n",
       "               finishedDate                modifyDate  \\\n",
       "0  {'$date': 1609687531000}  {'$date': 1609687536000}   \n",
       "1  {'$date': 1609687483000}  {'$date': 1609687488000}   \n",
       "2                       NaN  {'$date': 1609687542000}   \n",
       "3  {'$date': 1609687534000}  {'$date': 1609687539000}   \n",
       "4  {'$date': 1609687511000}  {'$date': 1609687511000}   \n",
       "\n",
       "          pointsAwardedDate  pointsEarned              purchaseDate  \\\n",
       "0  {'$date': 1609687531000}         500.0  {'$date': 1609632000000}   \n",
       "1  {'$date': 1609687483000}         150.0  {'$date': 1609601083000}   \n",
       "2                       NaN           5.0  {'$date': 1609632000000}   \n",
       "3  {'$date': 1609687534000}           5.0  {'$date': 1609632000000}   \n",
       "4  {'$date': 1609687506000}           5.0  {'$date': 1609601106000}   \n",
       "\n",
       "   purchasedItemCount                             rewardsReceiptItemList  \\\n",
       "0                 5.0  [{'barcode': '4011', 'description': 'ITEM NOT ...   \n",
       "1                 2.0  [{'barcode': '4011', 'description': 'ITEM NOT ...   \n",
       "2                 1.0  [{'needsFetchReview': False, 'partnerItemId': ...   \n",
       "3                 4.0  [{'barcode': '4011', 'description': 'ITEM NOT ...   \n",
       "4                 2.0  [{'barcode': '4011', 'description': 'ITEM NOT ...   \n",
       "\n",
       "  rewardsReceiptStatus  totalSpent                    userId  \n",
       "0             FINISHED        26.0  5ff1e1eacfcf6c399c274ae6  \n",
       "1             FINISHED        11.0  5ff1e194b6a9d73a3a9f1052  \n",
       "2             REJECTED        10.0  5ff1e1f1cfcf6c399c274b0b  \n",
       "3             FINISHED        28.0  5ff1e1eacfcf6c399c274ae6  \n",
       "4             FINISHED         1.0  5ff1e194b6a9d73a3a9f1052  "
      ]
     },
     "execution_count": 85,
     "metadata": {},
     "output_type": "execute_result"
    }
   ],
   "source": [
    "df2.head()"
   ]
  },
  {
   "cell_type": "markdown",
   "id": "2294bf54",
   "metadata": {},
   "source": [
    "_id column"
   ]
  },
  {
   "cell_type": "code",
   "execution_count": 86,
   "id": "49c7bd75",
   "metadata": {},
   "outputs": [],
   "source": [
    "df2[\"_id\"]= df2[\"_id\"].apply(lambda x : x['$oid'] )"
   ]
  },
  {
   "cell_type": "code",
   "execution_count": 87,
   "id": "84a4d23c",
   "metadata": {},
   "outputs": [
    {
     "data": {
      "text/plain": [
       "5ff1e1eb0a720f0523000575    1\n",
       "601b48df0a720f05f4000238    1\n",
       "601c11410a720f05f400028e    1\n",
       "601c2d630a7214ad280002a7    1\n",
       "601be7120a720f05f400027a    1\n",
       "                           ..\n",
       "60088a670a720f05fa0000e0    1\n",
       "600788cd0a7214ad8900003a    1\n",
       "60085bad0a720f05fa00006c    1\n",
       "60088e670a720f05fa00011d    1\n",
       "603c4fea0a7217c72c000389    1\n",
       "Name: _id, Length: 1119, dtype: int64"
      ]
     },
     "execution_count": 87,
     "metadata": {},
     "output_type": "execute_result"
    }
   ],
   "source": [
    "df2['_id'].value_counts()"
   ]
  },
  {
   "cell_type": "code",
   "execution_count": null,
   "id": "a445f010",
   "metadata": {},
   "outputs": [],
   "source": []
  },
  {
   "cell_type": "code",
   "execution_count": null,
   "id": "6c403ba0",
   "metadata": {},
   "outputs": [],
   "source": []
  },
  {
   "cell_type": "code",
   "execution_count": null,
   "id": "683f21a0",
   "metadata": {},
   "outputs": [],
   "source": []
  },
  {
   "cell_type": "code",
   "execution_count": null,
   "id": "49d5ece0",
   "metadata": {},
   "outputs": [],
   "source": []
  },
  {
   "cell_type": "code",
   "execution_count": null,
   "id": "55d145ee",
   "metadata": {},
   "outputs": [],
   "source": []
  },
  {
   "cell_type": "markdown",
   "id": "c9fc6d39",
   "metadata": {},
   "source": [
    "createDate"
   ]
  },
  {
   "cell_type": "code",
   "execution_count": 88,
   "id": "a59b67a3",
   "metadata": {},
   "outputs": [
    {
     "data": {
      "text/plain": [
       "{'$date': 1609687531000}    3\n",
       "{'$date': 1610144383000}    3\n",
       "{'$date': 1609687534000}    3\n",
       "{'$date': 1609879107000}    2\n",
       "{'$date': 1610390945000}    2\n",
       "                           ..\n",
       "{'$date': 1611172607000}    1\n",
       "{'$date': 1611199166000}    1\n",
       "{'$date': 1611265514000}    1\n",
       "{'$date': 1611197966000}    1\n",
       "{'$date': 1614565354962}    1\n",
       "Name: createDate, Length: 1107, dtype: int64"
      ]
     },
     "execution_count": 88,
     "metadata": {},
     "output_type": "execute_result"
    }
   ],
   "source": [
    "df2.createDate.value_counts()"
   ]
  },
  {
   "cell_type": "code",
   "execution_count": 89,
   "id": "9e59fdc6",
   "metadata": {},
   "outputs": [],
   "source": [
    "df2[\"createDate\"]= df2['createDate'].apply(lambda x : x['$date'] )"
   ]
  },
  {
   "cell_type": "code",
   "execution_count": 90,
   "id": "3d9dacd3",
   "metadata": {},
   "outputs": [
    {
     "data": {
      "text/plain": [
       "1609687531000    3\n",
       "1610144383000    3\n",
       "1609687534000    3\n",
       "1609879107000    2\n",
       "1610390945000    2\n",
       "                ..\n",
       "1611172607000    1\n",
       "1611199166000    1\n",
       "1611265514000    1\n",
       "1611197966000    1\n",
       "1614565354962    1\n",
       "Name: createDate, Length: 1107, dtype: int64"
      ]
     },
     "execution_count": 90,
     "metadata": {},
     "output_type": "execute_result"
    }
   ],
   "source": [
    "df2.createDate.value_counts()"
   ]
  },
  {
   "cell_type": "code",
   "execution_count": 91,
   "id": "9f9a896d",
   "metadata": {},
   "outputs": [],
   "source": [
    "df2['createDate']= pd.to_datetime(df2['createDate'])\n"
   ]
  },
  {
   "cell_type": "code",
   "execution_count": 92,
   "id": "a75c1297",
   "metadata": {},
   "outputs": [
    {
     "data": {
      "text/plain": [
       "0      1970-01-01 00:26:49.687531000\n",
       "1      1970-01-01 00:26:49.687483000\n",
       "2      1970-01-01 00:26:49.687537000\n",
       "3      1970-01-01 00:26:49.687534000\n",
       "4      1970-01-01 00:26:49.687506000\n",
       "                    ...             \n",
       "1114   1970-01-01 00:26:54.594147000\n",
       "1115   1970-01-01 00:26:54.613361873\n",
       "1116   1970-01-01 00:26:54.607657664\n",
       "1117   1970-01-01 00:26:54.604048000\n",
       "1118   1970-01-01 00:26:54.565354962\n",
       "Name: createDate, Length: 1119, dtype: datetime64[ns]"
      ]
     },
     "execution_count": 92,
     "metadata": {},
     "output_type": "execute_result"
    }
   ],
   "source": [
    "pd.to_datetime(df2['createDate']) "
   ]
  },
  {
   "cell_type": "code",
   "execution_count": 93,
   "id": "7375be98",
   "metadata": {},
   "outputs": [],
   "source": [
    "df2.createDate= pd.to_datetime(df2['createDate']) "
   ]
  },
  {
   "cell_type": "markdown",
   "id": "06b3b5a1",
   "metadata": {},
   "source": [
    "dateScanned"
   ]
  },
  {
   "cell_type": "code",
   "execution_count": 94,
   "id": "d39af97f",
   "metadata": {},
   "outputs": [],
   "source": [
    "df2.drop(\"dateScanned\", axis=1, inplace=True)"
   ]
  },
  {
   "cell_type": "markdown",
   "id": "32cc5e0a",
   "metadata": {},
   "source": [
    "finishedDate"
   ]
  },
  {
   "cell_type": "code",
   "execution_count": 95,
   "id": "799325ff",
   "metadata": {},
   "outputs": [
    {
     "data": {
      "text/plain": [
       "{'$date': 1609687534000}    3\n",
       "{'$date': 1609687531000}    2\n",
       "{'$date': 1609687532000}    2\n",
       "{'$date': 1611641366000}    2\n",
       "{'$date': 1609788557000}    2\n",
       "                           ..\n",
       "{'$date': 1610489764000}    1\n",
       "{'$date': 1610488675000}    1\n",
       "{'$date': 1610488914000}    1\n",
       "{'$date': 1610489897000}    1\n",
       "{'$date': 1614378985000}    1\n",
       "Name: finishedDate, Length: 553, dtype: int64"
      ]
     },
     "execution_count": 95,
     "metadata": {},
     "output_type": "execute_result"
    }
   ],
   "source": [
    "df2.finishedDate.value_counts()"
   ]
  },
  {
   "cell_type": "code",
   "execution_count": 96,
   "id": "f5c1bb28",
   "metadata": {},
   "outputs": [],
   "source": [
    "df2[\"finishedDate\"]=df2[\"finishedDate\"].apply(lambda x : x['$date'] if type(x) == dict else x)"
   ]
  },
  {
   "cell_type": "code",
   "execution_count": 97,
   "id": "468e8037",
   "metadata": {},
   "outputs": [
    {
     "data": {
      "text/plain": [
       "1.609688e+12    3\n",
       "1.609688e+12    2\n",
       "1.609688e+12    2\n",
       "1.611641e+12    2\n",
       "1.609789e+12    2\n",
       "               ..\n",
       "1.610490e+12    1\n",
       "1.610489e+12    1\n",
       "1.610489e+12    1\n",
       "1.610490e+12    1\n",
       "1.614379e+12    1\n",
       "Name: finishedDate, Length: 553, dtype: int64"
      ]
     },
     "execution_count": 97,
     "metadata": {},
     "output_type": "execute_result"
    }
   ],
   "source": [
    "df2.finishedDate.value_counts()"
   ]
  },
  {
   "cell_type": "code",
   "execution_count": 98,
   "id": "31f4e2d3",
   "metadata": {},
   "outputs": [],
   "source": [
    "df2['finishedDate']= pd.to_datetime(df2['finishedDate'])"
   ]
  },
  {
   "cell_type": "code",
   "execution_count": 99,
   "id": "4137b122",
   "metadata": {},
   "outputs": [],
   "source": [
    "df2.finishedDate= pd.to_datetime(df2['finishedDate']) "
   ]
  },
  {
   "cell_type": "markdown",
   "id": "8f5303cc",
   "metadata": {},
   "source": [
    "## "
   ]
  },
  {
   "cell_type": "code",
   "execution_count": 100,
   "id": "7617d1a3",
   "metadata": {},
   "outputs": [
    {
     "data": {
      "text/html": [
       "<div>\n",
       "<style scoped>\n",
       "    .dataframe tbody tr th:only-of-type {\n",
       "        vertical-align: middle;\n",
       "    }\n",
       "\n",
       "    .dataframe tbody tr th {\n",
       "        vertical-align: top;\n",
       "    }\n",
       "\n",
       "    .dataframe thead th {\n",
       "        text-align: right;\n",
       "    }\n",
       "</style>\n",
       "<table border=\"1\" class=\"dataframe\">\n",
       "  <thead>\n",
       "    <tr style=\"text-align: right;\">\n",
       "      <th></th>\n",
       "      <th>_id</th>\n",
       "      <th>bonusPointsEarned</th>\n",
       "      <th>bonusPointsEarnedReason</th>\n",
       "      <th>createDate</th>\n",
       "      <th>finishedDate</th>\n",
       "      <th>modifyDate</th>\n",
       "      <th>pointsAwardedDate</th>\n",
       "      <th>pointsEarned</th>\n",
       "      <th>purchaseDate</th>\n",
       "      <th>purchasedItemCount</th>\n",
       "      <th>rewardsReceiptItemList</th>\n",
       "      <th>rewardsReceiptStatus</th>\n",
       "      <th>totalSpent</th>\n",
       "      <th>userId</th>\n",
       "    </tr>\n",
       "  </thead>\n",
       "  <tbody>\n",
       "    <tr>\n",
       "      <th>0</th>\n",
       "      <td>5ff1e1eb0a720f0523000575</td>\n",
       "      <td>500.0</td>\n",
       "      <td>Receipt number 2 completed, bonus point schedu...</td>\n",
       "      <td>1970-01-01 00:26:49.687531000</td>\n",
       "      <td>1970-01-01 00:26:49.687531</td>\n",
       "      <td>{'$date': 1609687536000}</td>\n",
       "      <td>{'$date': 1609687531000}</td>\n",
       "      <td>500.0</td>\n",
       "      <td>{'$date': 1609632000000}</td>\n",
       "      <td>5.0</td>\n",
       "      <td>[{'barcode': '4011', 'description': 'ITEM NOT ...</td>\n",
       "      <td>FINISHED</td>\n",
       "      <td>26.00</td>\n",
       "      <td>5ff1e1eacfcf6c399c274ae6</td>\n",
       "    </tr>\n",
       "    <tr>\n",
       "      <th>1</th>\n",
       "      <td>5ff1e1bb0a720f052300056b</td>\n",
       "      <td>150.0</td>\n",
       "      <td>Receipt number 5 completed, bonus point schedu...</td>\n",
       "      <td>1970-01-01 00:26:49.687483000</td>\n",
       "      <td>1970-01-01 00:26:49.687483</td>\n",
       "      <td>{'$date': 1609687488000}</td>\n",
       "      <td>{'$date': 1609687483000}</td>\n",
       "      <td>150.0</td>\n",
       "      <td>{'$date': 1609601083000}</td>\n",
       "      <td>2.0</td>\n",
       "      <td>[{'barcode': '4011', 'description': 'ITEM NOT ...</td>\n",
       "      <td>FINISHED</td>\n",
       "      <td>11.00</td>\n",
       "      <td>5ff1e194b6a9d73a3a9f1052</td>\n",
       "    </tr>\n",
       "    <tr>\n",
       "      <th>2</th>\n",
       "      <td>5ff1e1f10a720f052300057a</td>\n",
       "      <td>5.0</td>\n",
       "      <td>All-receipts receipt bonus</td>\n",
       "      <td>1970-01-01 00:26:49.687537000</td>\n",
       "      <td>NaT</td>\n",
       "      <td>{'$date': 1609687542000}</td>\n",
       "      <td>NaN</td>\n",
       "      <td>5.0</td>\n",
       "      <td>{'$date': 1609632000000}</td>\n",
       "      <td>1.0</td>\n",
       "      <td>[{'needsFetchReview': False, 'partnerItemId': ...</td>\n",
       "      <td>REJECTED</td>\n",
       "      <td>10.00</td>\n",
       "      <td>5ff1e1f1cfcf6c399c274b0b</td>\n",
       "    </tr>\n",
       "    <tr>\n",
       "      <th>3</th>\n",
       "      <td>5ff1e1ee0a7214ada100056f</td>\n",
       "      <td>5.0</td>\n",
       "      <td>All-receipts receipt bonus</td>\n",
       "      <td>1970-01-01 00:26:49.687534000</td>\n",
       "      <td>1970-01-01 00:26:49.687534</td>\n",
       "      <td>{'$date': 1609687539000}</td>\n",
       "      <td>{'$date': 1609687534000}</td>\n",
       "      <td>5.0</td>\n",
       "      <td>{'$date': 1609632000000}</td>\n",
       "      <td>4.0</td>\n",
       "      <td>[{'barcode': '4011', 'description': 'ITEM NOT ...</td>\n",
       "      <td>FINISHED</td>\n",
       "      <td>28.00</td>\n",
       "      <td>5ff1e1eacfcf6c399c274ae6</td>\n",
       "    </tr>\n",
       "    <tr>\n",
       "      <th>4</th>\n",
       "      <td>5ff1e1d20a7214ada1000561</td>\n",
       "      <td>5.0</td>\n",
       "      <td>All-receipts receipt bonus</td>\n",
       "      <td>1970-01-01 00:26:49.687506000</td>\n",
       "      <td>1970-01-01 00:26:49.687511</td>\n",
       "      <td>{'$date': 1609687511000}</td>\n",
       "      <td>{'$date': 1609687506000}</td>\n",
       "      <td>5.0</td>\n",
       "      <td>{'$date': 1609601106000}</td>\n",
       "      <td>2.0</td>\n",
       "      <td>[{'barcode': '4011', 'description': 'ITEM NOT ...</td>\n",
       "      <td>FINISHED</td>\n",
       "      <td>1.00</td>\n",
       "      <td>5ff1e194b6a9d73a3a9f1052</td>\n",
       "    </tr>\n",
       "    <tr>\n",
       "      <th>...</th>\n",
       "      <td>...</td>\n",
       "      <td>...</td>\n",
       "      <td>...</td>\n",
       "      <td>...</td>\n",
       "      <td>...</td>\n",
       "      <td>...</td>\n",
       "      <td>...</td>\n",
       "      <td>...</td>\n",
       "      <td>...</td>\n",
       "      <td>...</td>\n",
       "      <td>...</td>\n",
       "      <td>...</td>\n",
       "      <td>...</td>\n",
       "      <td>...</td>\n",
       "    </tr>\n",
       "    <tr>\n",
       "      <th>1114</th>\n",
       "      <td>603cc0630a720fde100003e6</td>\n",
       "      <td>25.0</td>\n",
       "      <td>COMPLETE_NONPARTNER_RECEIPT</td>\n",
       "      <td>1970-01-01 00:26:54.594147000</td>\n",
       "      <td>NaT</td>\n",
       "      <td>{'$date': 1614594148000}</td>\n",
       "      <td>NaN</td>\n",
       "      <td>25.0</td>\n",
       "      <td>{'$date': 1597622400000}</td>\n",
       "      <td>2.0</td>\n",
       "      <td>[{'barcode': 'B076FJ92M4', 'description': 'mue...</td>\n",
       "      <td>REJECTED</td>\n",
       "      <td>34.96</td>\n",
       "      <td>5fc961c3b8cfca11a077dd33</td>\n",
       "    </tr>\n",
       "    <tr>\n",
       "      <th>1115</th>\n",
       "      <td>603d0b710a720fde1000042a</td>\n",
       "      <td>NaN</td>\n",
       "      <td>NaN</td>\n",
       "      <td>1970-01-01 00:26:54.613361873</td>\n",
       "      <td>NaT</td>\n",
       "      <td>{'$date': 1614613361873}</td>\n",
       "      <td>NaN</td>\n",
       "      <td>NaN</td>\n",
       "      <td>NaN</td>\n",
       "      <td>NaN</td>\n",
       "      <td>NaN</td>\n",
       "      <td>SUBMITTED</td>\n",
       "      <td>NaN</td>\n",
       "      <td>5fc961c3b8cfca11a077dd33</td>\n",
       "    </tr>\n",
       "    <tr>\n",
       "      <th>1116</th>\n",
       "      <td>603cf5290a720fde10000413</td>\n",
       "      <td>NaN</td>\n",
       "      <td>NaN</td>\n",
       "      <td>1970-01-01 00:26:54.607657664</td>\n",
       "      <td>NaT</td>\n",
       "      <td>{'$date': 1614607657664}</td>\n",
       "      <td>NaN</td>\n",
       "      <td>NaN</td>\n",
       "      <td>NaN</td>\n",
       "      <td>NaN</td>\n",
       "      <td>NaN</td>\n",
       "      <td>SUBMITTED</td>\n",
       "      <td>NaN</td>\n",
       "      <td>5fc961c3b8cfca11a077dd33</td>\n",
       "    </tr>\n",
       "    <tr>\n",
       "      <th>1117</th>\n",
       "      <td>603ce7100a7217c72c000405</td>\n",
       "      <td>25.0</td>\n",
       "      <td>COMPLETE_NONPARTNER_RECEIPT</td>\n",
       "      <td>1970-01-01 00:26:54.604048000</td>\n",
       "      <td>NaT</td>\n",
       "      <td>{'$date': 1614604049000}</td>\n",
       "      <td>NaN</td>\n",
       "      <td>25.0</td>\n",
       "      <td>{'$date': 1597622400000}</td>\n",
       "      <td>2.0</td>\n",
       "      <td>[{'barcode': 'B076FJ92M4', 'description': 'mue...</td>\n",
       "      <td>REJECTED</td>\n",
       "      <td>34.96</td>\n",
       "      <td>5fc961c3b8cfca11a077dd33</td>\n",
       "    </tr>\n",
       "    <tr>\n",
       "      <th>1118</th>\n",
       "      <td>603c4fea0a7217c72c000389</td>\n",
       "      <td>NaN</td>\n",
       "      <td>NaN</td>\n",
       "      <td>1970-01-01 00:26:54.565354962</td>\n",
       "      <td>NaT</td>\n",
       "      <td>{'$date': 1614565354962}</td>\n",
       "      <td>NaN</td>\n",
       "      <td>NaN</td>\n",
       "      <td>NaN</td>\n",
       "      <td>NaN</td>\n",
       "      <td>NaN</td>\n",
       "      <td>SUBMITTED</td>\n",
       "      <td>NaN</td>\n",
       "      <td>5fc961c3b8cfca11a077dd33</td>\n",
       "    </tr>\n",
       "  </tbody>\n",
       "</table>\n",
       "<p>1119 rows × 14 columns</p>\n",
       "</div>"
      ],
      "text/plain": [
       "                           _id  bonusPointsEarned  \\\n",
       "0     5ff1e1eb0a720f0523000575              500.0   \n",
       "1     5ff1e1bb0a720f052300056b              150.0   \n",
       "2     5ff1e1f10a720f052300057a                5.0   \n",
       "3     5ff1e1ee0a7214ada100056f                5.0   \n",
       "4     5ff1e1d20a7214ada1000561                5.0   \n",
       "...                        ...                ...   \n",
       "1114  603cc0630a720fde100003e6               25.0   \n",
       "1115  603d0b710a720fde1000042a                NaN   \n",
       "1116  603cf5290a720fde10000413                NaN   \n",
       "1117  603ce7100a7217c72c000405               25.0   \n",
       "1118  603c4fea0a7217c72c000389                NaN   \n",
       "\n",
       "                                bonusPointsEarnedReason  \\\n",
       "0     Receipt number 2 completed, bonus point schedu...   \n",
       "1     Receipt number 5 completed, bonus point schedu...   \n",
       "2                            All-receipts receipt bonus   \n",
       "3                            All-receipts receipt bonus   \n",
       "4                            All-receipts receipt bonus   \n",
       "...                                                 ...   \n",
       "1114                        COMPLETE_NONPARTNER_RECEIPT   \n",
       "1115                                                NaN   \n",
       "1116                                                NaN   \n",
       "1117                        COMPLETE_NONPARTNER_RECEIPT   \n",
       "1118                                                NaN   \n",
       "\n",
       "                        createDate               finishedDate  \\\n",
       "0    1970-01-01 00:26:49.687531000 1970-01-01 00:26:49.687531   \n",
       "1    1970-01-01 00:26:49.687483000 1970-01-01 00:26:49.687483   \n",
       "2    1970-01-01 00:26:49.687537000                        NaT   \n",
       "3    1970-01-01 00:26:49.687534000 1970-01-01 00:26:49.687534   \n",
       "4    1970-01-01 00:26:49.687506000 1970-01-01 00:26:49.687511   \n",
       "...                            ...                        ...   \n",
       "1114 1970-01-01 00:26:54.594147000                        NaT   \n",
       "1115 1970-01-01 00:26:54.613361873                        NaT   \n",
       "1116 1970-01-01 00:26:54.607657664                        NaT   \n",
       "1117 1970-01-01 00:26:54.604048000                        NaT   \n",
       "1118 1970-01-01 00:26:54.565354962                        NaT   \n",
       "\n",
       "                    modifyDate         pointsAwardedDate  pointsEarned  \\\n",
       "0     {'$date': 1609687536000}  {'$date': 1609687531000}         500.0   \n",
       "1     {'$date': 1609687488000}  {'$date': 1609687483000}         150.0   \n",
       "2     {'$date': 1609687542000}                       NaN           5.0   \n",
       "3     {'$date': 1609687539000}  {'$date': 1609687534000}           5.0   \n",
       "4     {'$date': 1609687511000}  {'$date': 1609687506000}           5.0   \n",
       "...                        ...                       ...           ...   \n",
       "1114  {'$date': 1614594148000}                       NaN          25.0   \n",
       "1115  {'$date': 1614613361873}                       NaN           NaN   \n",
       "1116  {'$date': 1614607657664}                       NaN           NaN   \n",
       "1117  {'$date': 1614604049000}                       NaN          25.0   \n",
       "1118  {'$date': 1614565354962}                       NaN           NaN   \n",
       "\n",
       "                  purchaseDate  purchasedItemCount  \\\n",
       "0     {'$date': 1609632000000}                 5.0   \n",
       "1     {'$date': 1609601083000}                 2.0   \n",
       "2     {'$date': 1609632000000}                 1.0   \n",
       "3     {'$date': 1609632000000}                 4.0   \n",
       "4     {'$date': 1609601106000}                 2.0   \n",
       "...                        ...                 ...   \n",
       "1114  {'$date': 1597622400000}                 2.0   \n",
       "1115                       NaN                 NaN   \n",
       "1116                       NaN                 NaN   \n",
       "1117  {'$date': 1597622400000}                 2.0   \n",
       "1118                       NaN                 NaN   \n",
       "\n",
       "                                 rewardsReceiptItemList rewardsReceiptStatus  \\\n",
       "0     [{'barcode': '4011', 'description': 'ITEM NOT ...             FINISHED   \n",
       "1     [{'barcode': '4011', 'description': 'ITEM NOT ...             FINISHED   \n",
       "2     [{'needsFetchReview': False, 'partnerItemId': ...             REJECTED   \n",
       "3     [{'barcode': '4011', 'description': 'ITEM NOT ...             FINISHED   \n",
       "4     [{'barcode': '4011', 'description': 'ITEM NOT ...             FINISHED   \n",
       "...                                                 ...                  ...   \n",
       "1114  [{'barcode': 'B076FJ92M4', 'description': 'mue...             REJECTED   \n",
       "1115                                                NaN            SUBMITTED   \n",
       "1116                                                NaN            SUBMITTED   \n",
       "1117  [{'barcode': 'B076FJ92M4', 'description': 'mue...             REJECTED   \n",
       "1118                                                NaN            SUBMITTED   \n",
       "\n",
       "      totalSpent                    userId  \n",
       "0          26.00  5ff1e1eacfcf6c399c274ae6  \n",
       "1          11.00  5ff1e194b6a9d73a3a9f1052  \n",
       "2          10.00  5ff1e1f1cfcf6c399c274b0b  \n",
       "3          28.00  5ff1e1eacfcf6c399c274ae6  \n",
       "4           1.00  5ff1e194b6a9d73a3a9f1052  \n",
       "...          ...                       ...  \n",
       "1114       34.96  5fc961c3b8cfca11a077dd33  \n",
       "1115         NaN  5fc961c3b8cfca11a077dd33  \n",
       "1116         NaN  5fc961c3b8cfca11a077dd33  \n",
       "1117       34.96  5fc961c3b8cfca11a077dd33  \n",
       "1118         NaN  5fc961c3b8cfca11a077dd33  \n",
       "\n",
       "[1119 rows x 14 columns]"
      ]
     },
     "execution_count": 100,
     "metadata": {},
     "output_type": "execute_result"
    }
   ],
   "source": [
    "df2"
   ]
  },
  {
   "cell_type": "code",
   "execution_count": null,
   "id": "dbd7550a",
   "metadata": {},
   "outputs": [],
   "source": []
  },
  {
   "cell_type": "markdown",
   "id": "1187bd41",
   "metadata": {},
   "source": [
    "modifyDate"
   ]
  },
  {
   "cell_type": "code",
   "execution_count": 101,
   "id": "4d1e5294",
   "metadata": {},
   "outputs": [
    {
     "data": {
      "text/plain": [
       "{'$date': 1609687536000}    3\n",
       "{'$date': 1610144388000}    2\n",
       "{'$date': 1609855952000}    2\n",
       "{'$date': 1610387370000}    2\n",
       "{'$date': 1610390950000}    2\n",
       "                           ..\n",
       "{'$date': 1611199209000}    1\n",
       "{'$date': 1611265576000}    1\n",
       "{'$date': 1611198000000}    1\n",
       "{'$date': 1611237536000}    1\n",
       "{'$date': 1614565354962}    1\n",
       "Name: modifyDate, Length: 1104, dtype: int64"
      ]
     },
     "execution_count": 101,
     "metadata": {},
     "output_type": "execute_result"
    }
   ],
   "source": [
    "df2.modifyDate.value_counts()"
   ]
  },
  {
   "cell_type": "code",
   "execution_count": 102,
   "id": "a2e4ef96",
   "metadata": {},
   "outputs": [],
   "source": [
    "df2[\"modifyDate\"]= df2[\"modifyDate\"].apply(lambda x : x[\"$date\"] if type(x) == dict else x)"
   ]
  },
  {
   "cell_type": "code",
   "execution_count": 103,
   "id": "4edade6a",
   "metadata": {},
   "outputs": [
    {
     "data": {
      "text/plain": [
       "1609687536000    3\n",
       "1610144388000    2\n",
       "1609855952000    2\n",
       "1610387370000    2\n",
       "1610390950000    2\n",
       "                ..\n",
       "1611199209000    1\n",
       "1611265576000    1\n",
       "1611198000000    1\n",
       "1611237536000    1\n",
       "1614565354962    1\n",
       "Name: modifyDate, Length: 1104, dtype: int64"
      ]
     },
     "execution_count": 103,
     "metadata": {},
     "output_type": "execute_result"
    }
   ],
   "source": [
    "df2.modifyDate.value_counts()"
   ]
  },
  {
   "cell_type": "code",
   "execution_count": 104,
   "id": "adf8f908",
   "metadata": {},
   "outputs": [],
   "source": [
    "df2['modifyDate']= pd.to_datetime(df2['modifyDate'])"
   ]
  },
  {
   "cell_type": "code",
   "execution_count": 105,
   "id": "6469dc11",
   "metadata": {},
   "outputs": [],
   "source": [
    "df2.modifyDate= pd.to_datetime(df2['modifyDate']) "
   ]
  },
  {
   "cell_type": "code",
   "execution_count": null,
   "id": "7da59468",
   "metadata": {},
   "outputs": [],
   "source": []
  },
  {
   "cell_type": "code",
   "execution_count": null,
   "id": "76bb1083",
   "metadata": {},
   "outputs": [],
   "source": []
  },
  {
   "cell_type": "code",
   "execution_count": null,
   "id": "2d4f8f33",
   "metadata": {},
   "outputs": [],
   "source": []
  },
  {
   "cell_type": "markdown",
   "id": "ca227cde",
   "metadata": {},
   "source": [
    "pointsAwardedDate"
   ]
  },
  {
   "cell_type": "code",
   "execution_count": 106,
   "id": "8d9438eb",
   "metadata": {},
   "outputs": [
    {
     "data": {
      "text/plain": [
       "{'$date': 1609687534000}    3\n",
       "{'$date': 1609687531000}    2\n",
       "{'$date': 1610144383000}    2\n",
       "{'$date': 1609788557000}    2\n",
       "{'$date': 1609879104000}    2\n",
       "                           ..\n",
       "{'$date': 1610396873000}    1\n",
       "{'$date': 1610387361000}    1\n",
       "{'$date': 1610390942000}    1\n",
       "{'$date': 1610396865000}    1\n",
       "{'$date': 1614378985000}    1\n",
       "Name: pointsAwardedDate, Length: 523, dtype: int64"
      ]
     },
     "execution_count": 106,
     "metadata": {},
     "output_type": "execute_result"
    }
   ],
   "source": [
    "df2.pointsAwardedDate.value_counts()"
   ]
  },
  {
   "cell_type": "code",
   "execution_count": 107,
   "id": "4978c610",
   "metadata": {},
   "outputs": [],
   "source": [
    "df2[\"pointsAwardedDate\"]=df2[\"pointsAwardedDate\"].apply(lambda x : x['$date'] if type(x) == dict else x)"
   ]
  },
  {
   "cell_type": "code",
   "execution_count": 108,
   "id": "78ad1ac8",
   "metadata": {},
   "outputs": [
    {
     "data": {
      "text/plain": [
       "1.609688e+12    3\n",
       "1.609688e+12    2\n",
       "1.610144e+12    2\n",
       "1.609789e+12    2\n",
       "1.609879e+12    2\n",
       "               ..\n",
       "1.610397e+12    1\n",
       "1.610387e+12    1\n",
       "1.610391e+12    1\n",
       "1.610397e+12    1\n",
       "1.614379e+12    1\n",
       "Name: pointsAwardedDate, Length: 523, dtype: int64"
      ]
     },
     "execution_count": 108,
     "metadata": {},
     "output_type": "execute_result"
    }
   ],
   "source": [
    "df2.pointsAwardedDate.value_counts().astype(int)"
   ]
  },
  {
   "cell_type": "code",
   "execution_count": 109,
   "id": "88c2431e",
   "metadata": {},
   "outputs": [],
   "source": [
    "df2['pointsAwardedDate']= pd.to_datetime(df2['pointsAwardedDate'])"
   ]
  },
  {
   "cell_type": "code",
   "execution_count": 110,
   "id": "e838edd3",
   "metadata": {},
   "outputs": [],
   "source": [
    "df2.pointsAwardedDate= pd.to_datetime(df2['pointsAwardedDate']) "
   ]
  },
  {
   "cell_type": "code",
   "execution_count": null,
   "id": "43719a83",
   "metadata": {},
   "outputs": [],
   "source": []
  },
  {
   "cell_type": "code",
   "execution_count": null,
   "id": "175695a0",
   "metadata": {},
   "outputs": [],
   "source": []
  },
  {
   "cell_type": "code",
   "execution_count": null,
   "id": "4fcc9c55",
   "metadata": {},
   "outputs": [],
   "source": []
  },
  {
   "cell_type": "code",
   "execution_count": null,
   "id": "ce7922a0",
   "metadata": {},
   "outputs": [],
   "source": []
  },
  {
   "cell_type": "code",
   "execution_count": 111,
   "id": "e925776b",
   "metadata": {},
   "outputs": [
    {
     "data": {
      "text/html": [
       "<div>\n",
       "<style scoped>\n",
       "    .dataframe tbody tr th:only-of-type {\n",
       "        vertical-align: middle;\n",
       "    }\n",
       "\n",
       "    .dataframe tbody tr th {\n",
       "        vertical-align: top;\n",
       "    }\n",
       "\n",
       "    .dataframe thead th {\n",
       "        text-align: right;\n",
       "    }\n",
       "</style>\n",
       "<table border=\"1\" class=\"dataframe\">\n",
       "  <thead>\n",
       "    <tr style=\"text-align: right;\">\n",
       "      <th></th>\n",
       "      <th>_id</th>\n",
       "      <th>bonusPointsEarned</th>\n",
       "      <th>bonusPointsEarnedReason</th>\n",
       "      <th>createDate</th>\n",
       "      <th>finishedDate</th>\n",
       "      <th>modifyDate</th>\n",
       "      <th>pointsAwardedDate</th>\n",
       "      <th>pointsEarned</th>\n",
       "      <th>purchaseDate</th>\n",
       "      <th>purchasedItemCount</th>\n",
       "      <th>rewardsReceiptItemList</th>\n",
       "      <th>rewardsReceiptStatus</th>\n",
       "      <th>totalSpent</th>\n",
       "      <th>userId</th>\n",
       "    </tr>\n",
       "  </thead>\n",
       "  <tbody>\n",
       "    <tr>\n",
       "      <th>0</th>\n",
       "      <td>5ff1e1eb0a720f0523000575</td>\n",
       "      <td>500.0</td>\n",
       "      <td>Receipt number 2 completed, bonus point schedu...</td>\n",
       "      <td>1970-01-01 00:26:49.687531</td>\n",
       "      <td>1970-01-01 00:26:49.687531</td>\n",
       "      <td>1970-01-01 00:26:49.687536</td>\n",
       "      <td>1970-01-01 00:26:49.687531</td>\n",
       "      <td>500.0</td>\n",
       "      <td>{'$date': 1609632000000}</td>\n",
       "      <td>5.0</td>\n",
       "      <td>[{'barcode': '4011', 'description': 'ITEM NOT ...</td>\n",
       "      <td>FINISHED</td>\n",
       "      <td>26.0</td>\n",
       "      <td>5ff1e1eacfcf6c399c274ae6</td>\n",
       "    </tr>\n",
       "    <tr>\n",
       "      <th>1</th>\n",
       "      <td>5ff1e1bb0a720f052300056b</td>\n",
       "      <td>150.0</td>\n",
       "      <td>Receipt number 5 completed, bonus point schedu...</td>\n",
       "      <td>1970-01-01 00:26:49.687483</td>\n",
       "      <td>1970-01-01 00:26:49.687483</td>\n",
       "      <td>1970-01-01 00:26:49.687488</td>\n",
       "      <td>1970-01-01 00:26:49.687483</td>\n",
       "      <td>150.0</td>\n",
       "      <td>{'$date': 1609601083000}</td>\n",
       "      <td>2.0</td>\n",
       "      <td>[{'barcode': '4011', 'description': 'ITEM NOT ...</td>\n",
       "      <td>FINISHED</td>\n",
       "      <td>11.0</td>\n",
       "      <td>5ff1e194b6a9d73a3a9f1052</td>\n",
       "    </tr>\n",
       "    <tr>\n",
       "      <th>2</th>\n",
       "      <td>5ff1e1f10a720f052300057a</td>\n",
       "      <td>5.0</td>\n",
       "      <td>All-receipts receipt bonus</td>\n",
       "      <td>1970-01-01 00:26:49.687537</td>\n",
       "      <td>NaT</td>\n",
       "      <td>1970-01-01 00:26:49.687542</td>\n",
       "      <td>NaT</td>\n",
       "      <td>5.0</td>\n",
       "      <td>{'$date': 1609632000000}</td>\n",
       "      <td>1.0</td>\n",
       "      <td>[{'needsFetchReview': False, 'partnerItemId': ...</td>\n",
       "      <td>REJECTED</td>\n",
       "      <td>10.0</td>\n",
       "      <td>5ff1e1f1cfcf6c399c274b0b</td>\n",
       "    </tr>\n",
       "    <tr>\n",
       "      <th>3</th>\n",
       "      <td>5ff1e1ee0a7214ada100056f</td>\n",
       "      <td>5.0</td>\n",
       "      <td>All-receipts receipt bonus</td>\n",
       "      <td>1970-01-01 00:26:49.687534</td>\n",
       "      <td>1970-01-01 00:26:49.687534</td>\n",
       "      <td>1970-01-01 00:26:49.687539</td>\n",
       "      <td>1970-01-01 00:26:49.687534</td>\n",
       "      <td>5.0</td>\n",
       "      <td>{'$date': 1609632000000}</td>\n",
       "      <td>4.0</td>\n",
       "      <td>[{'barcode': '4011', 'description': 'ITEM NOT ...</td>\n",
       "      <td>FINISHED</td>\n",
       "      <td>28.0</td>\n",
       "      <td>5ff1e1eacfcf6c399c274ae6</td>\n",
       "    </tr>\n",
       "    <tr>\n",
       "      <th>4</th>\n",
       "      <td>5ff1e1d20a7214ada1000561</td>\n",
       "      <td>5.0</td>\n",
       "      <td>All-receipts receipt bonus</td>\n",
       "      <td>1970-01-01 00:26:49.687506</td>\n",
       "      <td>1970-01-01 00:26:49.687511</td>\n",
       "      <td>1970-01-01 00:26:49.687511</td>\n",
       "      <td>1970-01-01 00:26:49.687506</td>\n",
       "      <td>5.0</td>\n",
       "      <td>{'$date': 1609601106000}</td>\n",
       "      <td>2.0</td>\n",
       "      <td>[{'barcode': '4011', 'description': 'ITEM NOT ...</td>\n",
       "      <td>FINISHED</td>\n",
       "      <td>1.0</td>\n",
       "      <td>5ff1e194b6a9d73a3a9f1052</td>\n",
       "    </tr>\n",
       "  </tbody>\n",
       "</table>\n",
       "</div>"
      ],
      "text/plain": [
       "                        _id  bonusPointsEarned  \\\n",
       "0  5ff1e1eb0a720f0523000575              500.0   \n",
       "1  5ff1e1bb0a720f052300056b              150.0   \n",
       "2  5ff1e1f10a720f052300057a                5.0   \n",
       "3  5ff1e1ee0a7214ada100056f                5.0   \n",
       "4  5ff1e1d20a7214ada1000561                5.0   \n",
       "\n",
       "                             bonusPointsEarnedReason  \\\n",
       "0  Receipt number 2 completed, bonus point schedu...   \n",
       "1  Receipt number 5 completed, bonus point schedu...   \n",
       "2                         All-receipts receipt bonus   \n",
       "3                         All-receipts receipt bonus   \n",
       "4                         All-receipts receipt bonus   \n",
       "\n",
       "                  createDate               finishedDate  \\\n",
       "0 1970-01-01 00:26:49.687531 1970-01-01 00:26:49.687531   \n",
       "1 1970-01-01 00:26:49.687483 1970-01-01 00:26:49.687483   \n",
       "2 1970-01-01 00:26:49.687537                        NaT   \n",
       "3 1970-01-01 00:26:49.687534 1970-01-01 00:26:49.687534   \n",
       "4 1970-01-01 00:26:49.687506 1970-01-01 00:26:49.687511   \n",
       "\n",
       "                  modifyDate          pointsAwardedDate  pointsEarned  \\\n",
       "0 1970-01-01 00:26:49.687536 1970-01-01 00:26:49.687531         500.0   \n",
       "1 1970-01-01 00:26:49.687488 1970-01-01 00:26:49.687483         150.0   \n",
       "2 1970-01-01 00:26:49.687542                        NaT           5.0   \n",
       "3 1970-01-01 00:26:49.687539 1970-01-01 00:26:49.687534           5.0   \n",
       "4 1970-01-01 00:26:49.687511 1970-01-01 00:26:49.687506           5.0   \n",
       "\n",
       "               purchaseDate  purchasedItemCount  \\\n",
       "0  {'$date': 1609632000000}                 5.0   \n",
       "1  {'$date': 1609601083000}                 2.0   \n",
       "2  {'$date': 1609632000000}                 1.0   \n",
       "3  {'$date': 1609632000000}                 4.0   \n",
       "4  {'$date': 1609601106000}                 2.0   \n",
       "\n",
       "                              rewardsReceiptItemList rewardsReceiptStatus  \\\n",
       "0  [{'barcode': '4011', 'description': 'ITEM NOT ...             FINISHED   \n",
       "1  [{'barcode': '4011', 'description': 'ITEM NOT ...             FINISHED   \n",
       "2  [{'needsFetchReview': False, 'partnerItemId': ...             REJECTED   \n",
       "3  [{'barcode': '4011', 'description': 'ITEM NOT ...             FINISHED   \n",
       "4  [{'barcode': '4011', 'description': 'ITEM NOT ...             FINISHED   \n",
       "\n",
       "   totalSpent                    userId  \n",
       "0        26.0  5ff1e1eacfcf6c399c274ae6  \n",
       "1        11.0  5ff1e194b6a9d73a3a9f1052  \n",
       "2        10.0  5ff1e1f1cfcf6c399c274b0b  \n",
       "3        28.0  5ff1e1eacfcf6c399c274ae6  \n",
       "4         1.0  5ff1e194b6a9d73a3a9f1052  "
      ]
     },
     "execution_count": 111,
     "metadata": {},
     "output_type": "execute_result"
    }
   ],
   "source": [
    "df2.head()"
   ]
  },
  {
   "cell_type": "code",
   "execution_count": 112,
   "id": "f0c5a248",
   "metadata": {},
   "outputs": [],
   "source": [
    "df2.drop(\"userId\", axis=1, inplace=True)"
   ]
  },
  {
   "cell_type": "markdown",
   "id": "d3e367f9",
   "metadata": {},
   "source": [
    "purchaseDate"
   ]
  },
  {
   "cell_type": "code",
   "execution_count": 113,
   "id": "35757eda",
   "metadata": {},
   "outputs": [
    {
     "data": {
      "text/plain": [
       "{'$date': 1597622400000}    40\n",
       "{'$date': 1612483200000}    28\n",
       "{'$date': 1611792000000}    24\n",
       "{'$date': 1610409600000}    23\n",
       "{'$date': 1611100800000}    18\n",
       "                            ..\n",
       "{'$date': 1609882145000}     1\n",
       "{'$date': 1610057960000}     1\n",
       "{'$date': 1612796530000}     1\n",
       "{'$date': 1610057940000}     1\n",
       "{'$date': 1614124800000}     1\n",
       "Name: purchaseDate, Length: 358, dtype: int64"
      ]
     },
     "execution_count": 113,
     "metadata": {},
     "output_type": "execute_result"
    }
   ],
   "source": [
    "df2.purchaseDate.value_counts()"
   ]
  },
  {
   "cell_type": "code",
   "execution_count": 114,
   "id": "e85613d0",
   "metadata": {},
   "outputs": [],
   "source": [
    "df2[\"purchaseDate\"]=df2[\"purchaseDate\"].apply(lambda x : x[\"$date\"] if type(x) == dict else x)"
   ]
  },
  {
   "cell_type": "code",
   "execution_count": 115,
   "id": "a52fcfd1",
   "metadata": {},
   "outputs": [
    {
     "data": {
      "text/plain": [
       "1.597622e+12    40\n",
       "1.612483e+12    28\n",
       "1.611792e+12    24\n",
       "1.610410e+12    23\n",
       "1.611101e+12    18\n",
       "                ..\n",
       "1.609882e+12     1\n",
       "1.610058e+12     1\n",
       "1.612797e+12     1\n",
       "1.610058e+12     1\n",
       "1.614125e+12     1\n",
       "Name: purchaseDate, Length: 358, dtype: int64"
      ]
     },
     "execution_count": 115,
     "metadata": {},
     "output_type": "execute_result"
    }
   ],
   "source": [
    "df2.purchaseDate.value_counts()"
   ]
  },
  {
   "cell_type": "code",
   "execution_count": 117,
   "id": "1baa7250",
   "metadata": {},
   "outputs": [],
   "source": [
    "df2['purchaseDate']= pd.to_datetime(df2['purchaseDate'])"
   ]
  },
  {
   "cell_type": "code",
   "execution_count": 120,
   "id": "465d6081",
   "metadata": {},
   "outputs": [],
   "source": [
    "df2.purchaseDate= pd.to_datetime(df2['purchaseDate']) "
   ]
  },
  {
   "cell_type": "code",
   "execution_count": null,
   "id": "b4924b8e",
   "metadata": {},
   "outputs": [],
   "source": []
  },
  {
   "cell_type": "code",
   "execution_count": null,
   "id": "53a518c7",
   "metadata": {},
   "outputs": [],
   "source": []
  },
  {
   "cell_type": "code",
   "execution_count": null,
   "id": "4663eac9",
   "metadata": {},
   "outputs": [],
   "source": []
  },
  {
   "cell_type": "code",
   "execution_count": null,
   "id": "c119fc27",
   "metadata": {},
   "outputs": [],
   "source": []
  },
  {
   "cell_type": "code",
   "execution_count": null,
   "id": "5b427e6e",
   "metadata": {},
   "outputs": [],
   "source": []
  },
  {
   "cell_type": "markdown",
   "id": "7edb62a4",
   "metadata": {},
   "source": [
    "rewardsReceiptItemList"
   ]
  },
  {
   "cell_type": "code",
   "execution_count": 121,
   "id": "36f5838f",
   "metadata": {},
   "outputs": [
    {
     "data": {
      "text/plain": [
       "[{'description': 'flipbelt level terrain waist pouch, neon yellow, large/32-35', 'discountedItemPrice': '28.57', 'finalPrice': '28.57', 'itemPrice': '28.57', 'originalReceiptItemText': 'flipbelt level terrain waist pouch, neon yellow, large/32-35', 'partnerItemId': '0', 'priceAfterCoupon': '28.57', 'quantityPurchased': 1}]                                                                                                                                                                                                                                                                                                                                                                                                                                                                                                                                                                                                                                                                                                                                                                                                                                                                                                                                                                                                                                                                                                                                                                                                                                                                                                                                                                                                                                                                                                                                                                                                                                                                                                                                                                                                                                                                                                                                                                                                                            50\n",
       "[{'barcode': 'B076FJ92M4', 'description': 'mueller austria hypergrind precision electric spice/coffee grinder millwith large grinding capacity and hd motor also for spices, herbs, nuts,grains, white', 'discountedItemPrice': '22.97', 'finalPrice': '22.97', 'itemPrice': '22.97', 'originalReceiptItemText': 'mueller austria hypergrind precision electric spice/coffee grinder millwith large grinding capacity and hd motor also for spices, herbs, nuts,grains, white', 'partnerItemId': '0', 'priceAfterCoupon': '22.97', 'quantityPurchased': 1}, {'barcode': 'B07BRRLSVC', 'description': 'thindust summer face mask - sun protection neck gaiter for outdooractivities', 'discountedItemPrice': '11.99', 'finalPrice': '11.99', 'itemPrice': '11.99', 'originalReceiptItemText': 'thindust summer face mask - sun protection neck gaiter for outdooractivities', 'partnerItemId': '1', 'priceAfterCoupon': '11.99', 'quantityPurchased': 1}]                                                                                                                                                                                                                                                                                                                                                                                                                                                                                                                                                                                                                                                                                                                                                                                                                                                                                                                                                                                                                                                                                                                                                                                                                                                                                                                                                                                                        40\n",
       "[{'barcode': '4011', 'description': 'ITEM NOT FOUND', 'finalPrice': '1', 'itemPrice': '1', 'partnerItemId': '1', 'quantityPurchased': 1}]                                                                                                                                                                                                                                                                                                                                                                                                                                                                                                                                                                                                                                                                                                                                                                                                                                                                                                                                                                                                                                                                                                                                                                                                                                                                                                                                                                                                                                                                                                                                                                                                                                                                                                                                                                                                                                                                                                                                                                                                                                                                                                                                                                                                                       31\n",
       "[{'barcode': '4011', 'description': 'ITEM NOT FOUND', 'finalPrice': '1', 'itemPrice': '1', 'partnerItemId': '1', 'quantityPurchased': 1}, {'barcode': '1234', 'needsFetchReview': True, 'needsFetchReviewReason': 'USER_FLAGGED', 'partnerItemId': '2', 'preventTargetGapPoints': True, 'userFlaggedBarcode': '1234', 'userFlaggedDescription': '', 'userFlaggedNewItem': True}]                                                                                                                                                                                                                                                                                                                                                                                                                                                                                                                                                                                                                                                                                                                                                                                                                                                                                                                                                                                                                                                                                                                                                                                                                                                                                                                                                                                                                                                                                                                                                                                                                                                                                                                                                                                                                                                                                                                                                                                24\n",
       "[{'barcode': '036000320893', 'description': 'HUGGIES SIMPLY CLEAN PREMOISTENED WIPE FRAGRANCE FREE BAG 216 COUNT', 'discountedItemPrice': '21.00', 'finalPrice': '21.00', 'itemNumber': '4023', 'itemPrice': '21.00', 'originalReceiptItemText': 'HUGGIES SIMPLY CLEAN PREMOISTENED WIPE FRAGRANCE FREE BAG 216 COUNT', 'partnerItemId': '0', 'pointsEarned': '210.0', 'pointsPayerId': '550b2565e4b001d5e9e4146f', 'quantityPurchased': 1, 'rewardsGroup': 'HUGGIES ONE AND DONE SIMPLY CLEAN BABY WIPES 200 COUNT OR LARGER', 'rewardsProductPartnerId': '550b2565e4b001d5e9e4146f'}, {'barcode': '036000320893', 'description': 'HUGGIES SIMPLY CLEAN PREMOISTENED WIPE FRAGRANCE FREE BAG 216 COUNT', 'discountedItemPrice': '21.00', 'finalPrice': '21.00', 'itemNumber': '4023', 'itemPrice': '21.00', 'originalReceiptItemText': 'HUGGIES SIMPLY CLEAN PREMOISTENED WIPE FRAGRANCE FREE BAG 216 COUNT', 'partnerItemId': '1', 'pointsEarned': '210.0', 'pointsPayerId': '550b2565e4b001d5e9e4146f', 'quantityPurchased': 1, 'rewardsGroup': 'HUGGIES ONE AND DONE SIMPLY CLEAN BABY WIPES 200 COUNT OR LARGER', 'rewardsProductPartnerId': '550b2565e4b001d5e9e4146f'}, {'barcode': '036000320893', 'description': 'HUGGIES SIMPLY CLEAN PREMOISTENED WIPE FRAGRANCE FREE BAG 216 COUNT', 'discountedItemPrice': '21.00', 'finalPrice': '21.00', 'itemNumber': '4023', 'itemPrice': '21.00', 'originalReceiptItemText': 'HUGGIES SIMPLY CLEAN PREMOISTENED WIPE FRAGRANCE FREE BAG 216 COUNT', 'partnerItemId': '2', 'pointsEarned': '210.0', 'pointsPayerId': '550b2565e4b001d5e9e4146f', 'quantityPurchased': 1, 'rewardsGroup': 'HUGGIES ONE AND DONE SIMPLY CLEAN BABY WIPES 200 COUNT OR LARGER', 'rewardsProductPartnerId': '550b2565e4b001d5e9e4146f'}, {'barcode': '036000320893', 'description': 'HUGGIES SIMPLY CLEAN PREMOISTENED WIPE FRAGRANCE FREE BAG 216 COUNT', 'discountedItemPrice': '21.00', 'finalPrice': '21.00', 'itemNumber': '4023', 'itemPrice': '21.00', 'originalReceiptItemText': 'HUGGIES SIMPLY CLEAN PREMOISTENED WIPE FRAGRANCE FREE BAG 216 COUNT', 'partnerItemId': '3', 'pointsEarned': '210.0', 'pointsPayerId': '550b2565e4b001d5e9e4146f', 'quantityPurchased': 1, 'rewardsGroup': 'HUGGIES ONE AND DONE SIMPLY CLEAN BABY WIPES 200 COUNT OR LARGER', 'rewardsProductPartnerId': '550b2565e4b001d5e9e4146f'}]    22\n",
       "                                                                                                                                                                                                                                                                                                                                                                                                                                                                                                                                                                                                                                                                                                                                                                                                                                                                                                                                                                                                                                                                                                                                                                                                                                                                                                                                                                                                                                                                                                                                                                                                                                                                                                                                                                                                                                                                                                                                                                                                                                                                                                                                                                                                                                                                                                                                                                ..\n",
       "[{'barcode': '070085035006', 'competitiveProduct': True, 'finalPrice': '9.99', 'itemPrice': '9.99', 'partnerItemId': '1', 'quantityPurchased': 1, 'rewardsGroup': 'TOTINO'S PIZZA ROLLS 15 COUNT - 40 COUNT', 'rewardsProductPartnerId': '5332f5f3e4b03c9a25efd0ae'}, {'barcode': '070085035006', 'competitiveProduct': True, 'finalPrice': '9.99', 'itemPrice': '9.99', 'partnerItemId': '2', 'quantityPurchased': 1, 'rewardsGroup': 'TOTINO'S PIZZA ROLLS 15 COUNT - 40 COUNT', 'rewardsProductPartnerId': '5332f5f3e4b03c9a25efd0ae'}, {'barcode': '070085035006', 'competitiveProduct': True, 'finalPrice': '9.99', 'itemPrice': '9.99', 'partnerItemId': '3', 'quantityPurchased': 1, 'rewardsGroup': 'TOTINO'S PIZZA ROLLS 15 COUNT - 40 COUNT', 'rewardsProductPartnerId': '5332f5f3e4b03c9a25efd0ae'}, {'barcode': '070085035006', 'competitiveProduct': True, 'finalPrice': '9.99', 'itemPrice': '9.99', 'partnerItemId': '4', 'quantityPurchased': 1, 'rewardsGroup': 'TOTINO'S PIZZA ROLLS 15 COUNT - 40 COUNT', 'rewardsProductPartnerId': '5332f5f3e4b03c9a25efd0ae'}, {'barcode': '070085035006', 'competitiveProduct': True, 'finalPrice': '9.99', 'itemPrice': '9.99', 'partnerItemId': '5', 'quantityPurchased': 1, 'rewardsGroup': 'TOTINO'S PIZZA ROLLS 15 COUNT - 40 COUNT', 'rewardsProductPartnerId': '5332f5f3e4b03c9a25efd0ae'}]                                                                                                                                                                                                                                                                                                                                                                                                                                                                                                                                                                                                                                                                                                                                                                                                                                                                                                                                                                                                        1\n",
       "[{'barcode': '021000007660', 'competitiveProduct': True, 'finalPrice': '9.99', 'itemPrice': '9.99', 'partnerItemId': '1', 'quantityPurchased': 1, 'rewardsGroup': 'SARGENTO STRING OR STICK CHEESE', 'rewardsProductPartnerId': '5e7cf838f221c312e698a628'}, {'barcode': '021000007660', 'competitiveProduct': True, 'finalPrice': '9.99', 'itemPrice': '9.99', 'partnerItemId': '2', 'quantityPurchased': 1, 'rewardsGroup': 'SARGENTO STRING OR STICK CHEESE', 'rewardsProductPartnerId': '5e7cf838f221c312e698a628'}, {'barcode': '021000007660', 'competitiveProduct': True, 'finalPrice': '9.99', 'itemPrice': '9.99', 'partnerItemId': '3', 'quantityPurchased': 1, 'rewardsGroup': 'SARGENTO STRING OR STICK CHEESE', 'rewardsProductPartnerId': '5e7cf838f221c312e698a628'}, {'barcode': '021000007660', 'competitiveProduct': True, 'finalPrice': '9.99', 'itemPrice': '9.99', 'partnerItemId': '4', 'quantityPurchased': 1, 'rewardsGroup': 'SARGENTO STRING OR STICK CHEESE', 'rewardsProductPartnerId': '5e7cf838f221c312e698a628'}, {'barcode': '021000007660', 'competitiveProduct': True, 'finalPrice': '9.99', 'itemPrice': '9.99', 'partnerItemId': '5', 'quantityPurchased': 1, 'rewardsGroup': 'SARGENTO STRING OR STICK CHEESE', 'rewardsProductPartnerId': '5e7cf838f221c312e698a628'}]                                                                                                                                                                                                                                                                                                                                                                                                                                                                                                                                                                                                                                                                                                                                                                                                                                                                                                                                                                                                                                                     1\n",
       "[{'barcode': '025800026302', 'description': 'SMART ONES Flavorful Asian Inspirations Orange Sesame Chicken 9 oz. Box', 'finalPrice': '10', 'itemPrice': '10', 'partnerItemId': '1', 'quantityPurchased': 1, 'rewardsProductPartnerId': '559c2234e4b06aca36af13c6'}]                                                                                                                                                                                                                                                                                                                                                                                                                                                                                                                                                                                                                                                                                                                                                                                                                                                                                                                                                                                                                                                                                                                                                                                                                                                                                                                                                                                                                                                                                                                                                                                                                                                                                                                                                                                                                                                                                                                                                                                                                                                                                              1\n",
       "[{'barcode': '044700071533', 'description': 'OSCAR MAYER Fun Pack Pepperoni Kabobble 8 oz', 'finalPrice': '1', 'itemPrice': '1', 'partnerItemId': '1', 'pointsEarned': '5.0', 'pointsPayerId': '559c2234e4b06aca36af13c6', 'quantityPurchased': 1, 'rewardsGroup': 'LUNCHABLES LUNCH COMBINATIONS - FUN PACK', 'rewardsProductPartnerId': '559c2234e4b06aca36af13c6', 'targetPrice': '800'}]                                                                                                                                                                                                                                                                                                                                                                                                                                                                                                                                                                                                                                                                                                                                                                                                                                                                                                                                                                                                                                                                                                                                                                                                                                                                                                                                                                                                                                                                                                                                                                                                                                                                                                                                                                                                                                                                                                                                                                     1\n",
       "[{'barcode': '665290001184', 'description': 'Berry Strawberry Conventional, 16 Ounce', 'discountedItemPrice': '3.99', 'finalPrice': '3.99', 'itemPrice': '3.99', 'originalReceiptItemText': 'Berry Strawberry Conventional, 16 Ounce', 'partnerItemId': '0', 'priceAfterCoupon': '3.99', 'quantityPurchased': 1}]                                                                                                                                                                                                                                                                                                                                                                                                                                                                                                                                                                                                                                                                                                                                                                                                                                                                                                                                                                                                                                                                                                                                                                                                                                                                                                                                                                                                                                                                                                                                                                                                                                                                                                                                                                                                                                                                                                                                                                                                                                                1\n",
       "Name: rewardsReceiptItemList, Length: 383, dtype: int64"
      ]
     },
     "execution_count": 121,
     "metadata": {},
     "output_type": "execute_result"
    }
   ],
   "source": [
    "df2.rewardsReceiptItemList.value_counts()"
   ]
  },
  {
   "cell_type": "code",
   "execution_count": 122,
   "id": "26c680fd",
   "metadata": {},
   "outputs": [],
   "source": [
    "df2.drop([\"rewardsReceiptItemList\"], axis= 1, inplace= True)"
   ]
  },
  {
   "cell_type": "code",
   "execution_count": 123,
   "id": "8a395747",
   "metadata": {},
   "outputs": [
    {
     "data": {
      "text/html": [
       "<div>\n",
       "<style scoped>\n",
       "    .dataframe tbody tr th:only-of-type {\n",
       "        vertical-align: middle;\n",
       "    }\n",
       "\n",
       "    .dataframe tbody tr th {\n",
       "        vertical-align: top;\n",
       "    }\n",
       "\n",
       "    .dataframe thead th {\n",
       "        text-align: right;\n",
       "    }\n",
       "</style>\n",
       "<table border=\"1\" class=\"dataframe\">\n",
       "  <thead>\n",
       "    <tr style=\"text-align: right;\">\n",
       "      <th></th>\n",
       "      <th>_id</th>\n",
       "      <th>bonusPointsEarned</th>\n",
       "      <th>bonusPointsEarnedReason</th>\n",
       "      <th>createDate</th>\n",
       "      <th>finishedDate</th>\n",
       "      <th>modifyDate</th>\n",
       "      <th>pointsAwardedDate</th>\n",
       "      <th>pointsEarned</th>\n",
       "      <th>purchaseDate</th>\n",
       "      <th>purchasedItemCount</th>\n",
       "      <th>rewardsReceiptStatus</th>\n",
       "      <th>totalSpent</th>\n",
       "    </tr>\n",
       "  </thead>\n",
       "  <tbody>\n",
       "    <tr>\n",
       "      <th>0</th>\n",
       "      <td>5ff1e1eb0a720f0523000575</td>\n",
       "      <td>500.0</td>\n",
       "      <td>Receipt number 2 completed, bonus point schedu...</td>\n",
       "      <td>1970-01-01 00:26:49.687531</td>\n",
       "      <td>1970-01-01 00:26:49.687531</td>\n",
       "      <td>1970-01-01 00:26:49.687536</td>\n",
       "      <td>1970-01-01 00:26:49.687531</td>\n",
       "      <td>500.0</td>\n",
       "      <td>1970-01-01 00:26:49.632000</td>\n",
       "      <td>5.0</td>\n",
       "      <td>FINISHED</td>\n",
       "      <td>26.0</td>\n",
       "    </tr>\n",
       "    <tr>\n",
       "      <th>1</th>\n",
       "      <td>5ff1e1bb0a720f052300056b</td>\n",
       "      <td>150.0</td>\n",
       "      <td>Receipt number 5 completed, bonus point schedu...</td>\n",
       "      <td>1970-01-01 00:26:49.687483</td>\n",
       "      <td>1970-01-01 00:26:49.687483</td>\n",
       "      <td>1970-01-01 00:26:49.687488</td>\n",
       "      <td>1970-01-01 00:26:49.687483</td>\n",
       "      <td>150.0</td>\n",
       "      <td>1970-01-01 00:26:49.601083</td>\n",
       "      <td>2.0</td>\n",
       "      <td>FINISHED</td>\n",
       "      <td>11.0</td>\n",
       "    </tr>\n",
       "    <tr>\n",
       "      <th>2</th>\n",
       "      <td>5ff1e1f10a720f052300057a</td>\n",
       "      <td>5.0</td>\n",
       "      <td>All-receipts receipt bonus</td>\n",
       "      <td>1970-01-01 00:26:49.687537</td>\n",
       "      <td>NaT</td>\n",
       "      <td>1970-01-01 00:26:49.687542</td>\n",
       "      <td>NaT</td>\n",
       "      <td>5.0</td>\n",
       "      <td>1970-01-01 00:26:49.632000</td>\n",
       "      <td>1.0</td>\n",
       "      <td>REJECTED</td>\n",
       "      <td>10.0</td>\n",
       "    </tr>\n",
       "    <tr>\n",
       "      <th>3</th>\n",
       "      <td>5ff1e1ee0a7214ada100056f</td>\n",
       "      <td>5.0</td>\n",
       "      <td>All-receipts receipt bonus</td>\n",
       "      <td>1970-01-01 00:26:49.687534</td>\n",
       "      <td>1970-01-01 00:26:49.687534</td>\n",
       "      <td>1970-01-01 00:26:49.687539</td>\n",
       "      <td>1970-01-01 00:26:49.687534</td>\n",
       "      <td>5.0</td>\n",
       "      <td>1970-01-01 00:26:49.632000</td>\n",
       "      <td>4.0</td>\n",
       "      <td>FINISHED</td>\n",
       "      <td>28.0</td>\n",
       "    </tr>\n",
       "    <tr>\n",
       "      <th>4</th>\n",
       "      <td>5ff1e1d20a7214ada1000561</td>\n",
       "      <td>5.0</td>\n",
       "      <td>All-receipts receipt bonus</td>\n",
       "      <td>1970-01-01 00:26:49.687506</td>\n",
       "      <td>1970-01-01 00:26:49.687511</td>\n",
       "      <td>1970-01-01 00:26:49.687511</td>\n",
       "      <td>1970-01-01 00:26:49.687506</td>\n",
       "      <td>5.0</td>\n",
       "      <td>1970-01-01 00:26:49.601106</td>\n",
       "      <td>2.0</td>\n",
       "      <td>FINISHED</td>\n",
       "      <td>1.0</td>\n",
       "    </tr>\n",
       "  </tbody>\n",
       "</table>\n",
       "</div>"
      ],
      "text/plain": [
       "                        _id  bonusPointsEarned  \\\n",
       "0  5ff1e1eb0a720f0523000575              500.0   \n",
       "1  5ff1e1bb0a720f052300056b              150.0   \n",
       "2  5ff1e1f10a720f052300057a                5.0   \n",
       "3  5ff1e1ee0a7214ada100056f                5.0   \n",
       "4  5ff1e1d20a7214ada1000561                5.0   \n",
       "\n",
       "                             bonusPointsEarnedReason  \\\n",
       "0  Receipt number 2 completed, bonus point schedu...   \n",
       "1  Receipt number 5 completed, bonus point schedu...   \n",
       "2                         All-receipts receipt bonus   \n",
       "3                         All-receipts receipt bonus   \n",
       "4                         All-receipts receipt bonus   \n",
       "\n",
       "                  createDate               finishedDate  \\\n",
       "0 1970-01-01 00:26:49.687531 1970-01-01 00:26:49.687531   \n",
       "1 1970-01-01 00:26:49.687483 1970-01-01 00:26:49.687483   \n",
       "2 1970-01-01 00:26:49.687537                        NaT   \n",
       "3 1970-01-01 00:26:49.687534 1970-01-01 00:26:49.687534   \n",
       "4 1970-01-01 00:26:49.687506 1970-01-01 00:26:49.687511   \n",
       "\n",
       "                  modifyDate          pointsAwardedDate  pointsEarned  \\\n",
       "0 1970-01-01 00:26:49.687536 1970-01-01 00:26:49.687531         500.0   \n",
       "1 1970-01-01 00:26:49.687488 1970-01-01 00:26:49.687483         150.0   \n",
       "2 1970-01-01 00:26:49.687542                        NaT           5.0   \n",
       "3 1970-01-01 00:26:49.687539 1970-01-01 00:26:49.687534           5.0   \n",
       "4 1970-01-01 00:26:49.687511 1970-01-01 00:26:49.687506           5.0   \n",
       "\n",
       "                purchaseDate  purchasedItemCount rewardsReceiptStatus  \\\n",
       "0 1970-01-01 00:26:49.632000                 5.0             FINISHED   \n",
       "1 1970-01-01 00:26:49.601083                 2.0             FINISHED   \n",
       "2 1970-01-01 00:26:49.632000                 1.0             REJECTED   \n",
       "3 1970-01-01 00:26:49.632000                 4.0             FINISHED   \n",
       "4 1970-01-01 00:26:49.601106                 2.0             FINISHED   \n",
       "\n",
       "   totalSpent  \n",
       "0        26.0  \n",
       "1        11.0  \n",
       "2        10.0  \n",
       "3        28.0  \n",
       "4         1.0  "
      ]
     },
     "execution_count": 123,
     "metadata": {},
     "output_type": "execute_result"
    }
   ],
   "source": [
    "df2.head()"
   ]
  },
  {
   "cell_type": "markdown",
   "id": "6f10d307",
   "metadata": {},
   "source": [
    "# df3¶"
   ]
  },
  {
   "cell_type": "code",
   "execution_count": 124,
   "id": "3ed2d063",
   "metadata": {},
   "outputs": [
    {
     "data": {
      "text/html": [
       "<div>\n",
       "<style scoped>\n",
       "    .dataframe tbody tr th:only-of-type {\n",
       "        vertical-align: middle;\n",
       "    }\n",
       "\n",
       "    .dataframe tbody tr th {\n",
       "        vertical-align: top;\n",
       "    }\n",
       "\n",
       "    .dataframe thead th {\n",
       "        text-align: right;\n",
       "    }\n",
       "</style>\n",
       "<table border=\"1\" class=\"dataframe\">\n",
       "  <thead>\n",
       "    <tr style=\"text-align: right;\">\n",
       "      <th></th>\n",
       "      <th>_id</th>\n",
       "      <th>active</th>\n",
       "      <th>createdDate</th>\n",
       "      <th>lastLogin</th>\n",
       "      <th>role</th>\n",
       "      <th>signUpSource</th>\n",
       "      <th>state</th>\n",
       "    </tr>\n",
       "  </thead>\n",
       "  <tbody>\n",
       "    <tr>\n",
       "      <th>0</th>\n",
       "      <td>{'$oid': '5ff1e194b6a9d73a3a9f1052'}</td>\n",
       "      <td>True</td>\n",
       "      <td>{'$date': 1609687444800}</td>\n",
       "      <td>{'$date': 1609687537858}</td>\n",
       "      <td>consumer</td>\n",
       "      <td>Email</td>\n",
       "      <td>WI</td>\n",
       "    </tr>\n",
       "    <tr>\n",
       "      <th>1</th>\n",
       "      <td>{'$oid': '5ff1e194b6a9d73a3a9f1052'}</td>\n",
       "      <td>True</td>\n",
       "      <td>{'$date': 1609687444800}</td>\n",
       "      <td>{'$date': 1609687537858}</td>\n",
       "      <td>consumer</td>\n",
       "      <td>Email</td>\n",
       "      <td>WI</td>\n",
       "    </tr>\n",
       "    <tr>\n",
       "      <th>2</th>\n",
       "      <td>{'$oid': '5ff1e194b6a9d73a3a9f1052'}</td>\n",
       "      <td>True</td>\n",
       "      <td>{'$date': 1609687444800}</td>\n",
       "      <td>{'$date': 1609687537858}</td>\n",
       "      <td>consumer</td>\n",
       "      <td>Email</td>\n",
       "      <td>WI</td>\n",
       "    </tr>\n",
       "    <tr>\n",
       "      <th>3</th>\n",
       "      <td>{'$oid': '5ff1e1eacfcf6c399c274ae6'}</td>\n",
       "      <td>True</td>\n",
       "      <td>{'$date': 1609687530554}</td>\n",
       "      <td>{'$date': 1609687530597}</td>\n",
       "      <td>consumer</td>\n",
       "      <td>Email</td>\n",
       "      <td>WI</td>\n",
       "    </tr>\n",
       "    <tr>\n",
       "      <th>4</th>\n",
       "      <td>{'$oid': '5ff1e194b6a9d73a3a9f1052'}</td>\n",
       "      <td>True</td>\n",
       "      <td>{'$date': 1609687444800}</td>\n",
       "      <td>{'$date': 1609687537858}</td>\n",
       "      <td>consumer</td>\n",
       "      <td>Email</td>\n",
       "      <td>WI</td>\n",
       "    </tr>\n",
       "  </tbody>\n",
       "</table>\n",
       "</div>"
      ],
      "text/plain": [
       "                                    _id  active               createdDate  \\\n",
       "0  {'$oid': '5ff1e194b6a9d73a3a9f1052'}    True  {'$date': 1609687444800}   \n",
       "1  {'$oid': '5ff1e194b6a9d73a3a9f1052'}    True  {'$date': 1609687444800}   \n",
       "2  {'$oid': '5ff1e194b6a9d73a3a9f1052'}    True  {'$date': 1609687444800}   \n",
       "3  {'$oid': '5ff1e1eacfcf6c399c274ae6'}    True  {'$date': 1609687530554}   \n",
       "4  {'$oid': '5ff1e194b6a9d73a3a9f1052'}    True  {'$date': 1609687444800}   \n",
       "\n",
       "                  lastLogin      role signUpSource state  \n",
       "0  {'$date': 1609687537858}  consumer        Email    WI  \n",
       "1  {'$date': 1609687537858}  consumer        Email    WI  \n",
       "2  {'$date': 1609687537858}  consumer        Email    WI  \n",
       "3  {'$date': 1609687530597}  consumer        Email    WI  \n",
       "4  {'$date': 1609687537858}  consumer        Email    WI  "
      ]
     },
     "execution_count": 124,
     "metadata": {},
     "output_type": "execute_result"
    }
   ],
   "source": [
    "df3.head()"
   ]
  },
  {
   "cell_type": "code",
   "execution_count": 125,
   "id": "81377030",
   "metadata": {},
   "outputs": [
    {
     "data": {
      "text/html": [
       "<div>\n",
       "<style scoped>\n",
       "    .dataframe tbody tr th:only-of-type {\n",
       "        vertical-align: middle;\n",
       "    }\n",
       "\n",
       "    .dataframe tbody tr th {\n",
       "        vertical-align: top;\n",
       "    }\n",
       "\n",
       "    .dataframe thead th {\n",
       "        text-align: right;\n",
       "    }\n",
       "</style>\n",
       "<table border=\"1\" class=\"dataframe\">\n",
       "  <thead>\n",
       "    <tr style=\"text-align: right;\">\n",
       "      <th></th>\n",
       "      <th>_id</th>\n",
       "      <th>active</th>\n",
       "      <th>createdDate</th>\n",
       "      <th>lastLogin</th>\n",
       "      <th>role</th>\n",
       "      <th>signUpSource</th>\n",
       "      <th>state</th>\n",
       "    </tr>\n",
       "  </thead>\n",
       "  <tbody>\n",
       "    <tr>\n",
       "      <th>490</th>\n",
       "      <td>{'$oid': '54943462e4b07e684157a532'}</td>\n",
       "      <td>True</td>\n",
       "      <td>{'$date': 1418998882381}</td>\n",
       "      <td>{'$date': 1614963143204}</td>\n",
       "      <td>fetch-staff</td>\n",
       "      <td>NaN</td>\n",
       "      <td>NaN</td>\n",
       "    </tr>\n",
       "    <tr>\n",
       "      <th>491</th>\n",
       "      <td>{'$oid': '54943462e4b07e684157a532'}</td>\n",
       "      <td>True</td>\n",
       "      <td>{'$date': 1418998882381}</td>\n",
       "      <td>{'$date': 1614963143204}</td>\n",
       "      <td>fetch-staff</td>\n",
       "      <td>NaN</td>\n",
       "      <td>NaN</td>\n",
       "    </tr>\n",
       "    <tr>\n",
       "      <th>492</th>\n",
       "      <td>{'$oid': '54943462e4b07e684157a532'}</td>\n",
       "      <td>True</td>\n",
       "      <td>{'$date': 1418998882381}</td>\n",
       "      <td>{'$date': 1614963143204}</td>\n",
       "      <td>fetch-staff</td>\n",
       "      <td>NaN</td>\n",
       "      <td>NaN</td>\n",
       "    </tr>\n",
       "    <tr>\n",
       "      <th>493</th>\n",
       "      <td>{'$oid': '54943462e4b07e684157a532'}</td>\n",
       "      <td>True</td>\n",
       "      <td>{'$date': 1418998882381}</td>\n",
       "      <td>{'$date': 1614963143204}</td>\n",
       "      <td>fetch-staff</td>\n",
       "      <td>NaN</td>\n",
       "      <td>NaN</td>\n",
       "    </tr>\n",
       "    <tr>\n",
       "      <th>494</th>\n",
       "      <td>{'$oid': '54943462e4b07e684157a532'}</td>\n",
       "      <td>True</td>\n",
       "      <td>{'$date': 1418998882381}</td>\n",
       "      <td>{'$date': 1614963143204}</td>\n",
       "      <td>fetch-staff</td>\n",
       "      <td>NaN</td>\n",
       "      <td>NaN</td>\n",
       "    </tr>\n",
       "  </tbody>\n",
       "</table>\n",
       "</div>"
      ],
      "text/plain": [
       "                                      _id  active               createdDate  \\\n",
       "490  {'$oid': '54943462e4b07e684157a532'}    True  {'$date': 1418998882381}   \n",
       "491  {'$oid': '54943462e4b07e684157a532'}    True  {'$date': 1418998882381}   \n",
       "492  {'$oid': '54943462e4b07e684157a532'}    True  {'$date': 1418998882381}   \n",
       "493  {'$oid': '54943462e4b07e684157a532'}    True  {'$date': 1418998882381}   \n",
       "494  {'$oid': '54943462e4b07e684157a532'}    True  {'$date': 1418998882381}   \n",
       "\n",
       "                    lastLogin         role signUpSource state  \n",
       "490  {'$date': 1614963143204}  fetch-staff          NaN   NaN  \n",
       "491  {'$date': 1614963143204}  fetch-staff          NaN   NaN  \n",
       "492  {'$date': 1614963143204}  fetch-staff          NaN   NaN  \n",
       "493  {'$date': 1614963143204}  fetch-staff          NaN   NaN  \n",
       "494  {'$date': 1614963143204}  fetch-staff          NaN   NaN  "
      ]
     },
     "execution_count": 125,
     "metadata": {},
     "output_type": "execute_result"
    }
   ],
   "source": [
    "df3.tail()"
   ]
  },
  {
   "cell_type": "code",
   "execution_count": 126,
   "id": "998ba405",
   "metadata": {},
   "outputs": [
    {
     "name": "stdout",
     "output_type": "stream",
     "text": [
      "<class 'pandas.core.frame.DataFrame'>\n",
      "RangeIndex: 495 entries, 0 to 494\n",
      "Data columns (total 7 columns):\n",
      " #   Column        Non-Null Count  Dtype \n",
      "---  ------        --------------  ----- \n",
      " 0   _id           495 non-null    object\n",
      " 1   active        495 non-null    bool  \n",
      " 2   createdDate   495 non-null    object\n",
      " 3   lastLogin     433 non-null    object\n",
      " 4   role          495 non-null    object\n",
      " 5   signUpSource  447 non-null    object\n",
      " 6   state         439 non-null    object\n",
      "dtypes: bool(1), object(6)\n",
      "memory usage: 23.8+ KB\n"
     ]
    }
   ],
   "source": [
    "df3.info()"
   ]
  },
  {
   "cell_type": "markdown",
   "id": "88286c95",
   "metadata": {},
   "source": [
    "id"
   ]
  },
  {
   "cell_type": "code",
   "execution_count": 127,
   "id": "a22b8e8c",
   "metadata": {},
   "outputs": [
    {
     "data": {
      "text/plain": [
       "{'$oid': '54943462e4b07e684157a532'}    20\n",
       "{'$oid': '5fc961c3b8cfca11a077dd33'}    20\n",
       "{'$oid': '5ff5d15aeb7c7d12096d91a2'}    18\n",
       "{'$oid': '5fa41775898c7a11a6bcef3e'}    18\n",
       "{'$oid': '59c124bae4b0299e55b0f330'}    18\n",
       "                                        ..\n",
       "{'$oid': '6004a965e257124ec6b9a39f'}     1\n",
       "{'$oid': '600746fd6e64691717e8cfb5'}     1\n",
       "{'$oid': '60074b996e64691717e8f11a'}     1\n",
       "{'$oid': '60074246325c8a12289e22a0'}     1\n",
       "{'$oid': '60088e5d633aab121bb8e5cf'}     1\n",
       "Name: _id, Length: 212, dtype: int64"
      ]
     },
     "execution_count": 127,
     "metadata": {},
     "output_type": "execute_result"
    }
   ],
   "source": [
    "df3[\"_id\"].value_counts()"
   ]
  },
  {
   "cell_type": "code",
   "execution_count": 128,
   "id": "1b311374",
   "metadata": {},
   "outputs": [],
   "source": [
    "df3[\"_id\"]= df3[\"_id\"].apply(lambda x : x[\"$oid\"] if type(x) == dict else x)"
   ]
  },
  {
   "cell_type": "code",
   "execution_count": 129,
   "id": "180257d6",
   "metadata": {},
   "outputs": [
    {
     "data": {
      "text/plain": [
       "54943462e4b07e684157a532    20\n",
       "5fc961c3b8cfca11a077dd33    20\n",
       "5ff5d15aeb7c7d12096d91a2    18\n",
       "5fa41775898c7a11a6bcef3e    18\n",
       "59c124bae4b0299e55b0f330    18\n",
       "                            ..\n",
       "6004a965e257124ec6b9a39f     1\n",
       "600746fd6e64691717e8cfb5     1\n",
       "60074b996e64691717e8f11a     1\n",
       "60074246325c8a12289e22a0     1\n",
       "60088e5d633aab121bb8e5cf     1\n",
       "Name: _id, Length: 212, dtype: int64"
      ]
     },
     "execution_count": 129,
     "metadata": {},
     "output_type": "execute_result"
    }
   ],
   "source": [
    "df3[\"_id\"].value_counts()"
   ]
  },
  {
   "cell_type": "markdown",
   "id": "681099e7",
   "metadata": {},
   "source": [
    "createdDate"
   ]
  },
  {
   "cell_type": "code",
   "execution_count": 130,
   "id": "806a5d4f",
   "metadata": {},
   "outputs": [
    {
     "data": {
      "text/plain": [
       "{'$date': 1418998882381}    20\n",
       "{'$date': 1607033283936}    20\n",
       "{'$date': 1609945434680}    18\n",
       "{'$date': 1604589429396}    18\n",
       "{'$date': 1505830074302}    18\n",
       "                            ..\n",
       "{'$date': 1610918245327}     1\n",
       "{'$date': 1611089661274}     1\n",
       "{'$date': 1611090841809}     1\n",
       "{'$date': 1611088455284}     1\n",
       "{'$date': 1611173469989}     1\n",
       "Name: createdDate, Length: 212, dtype: int64"
      ]
     },
     "execution_count": 130,
     "metadata": {},
     "output_type": "execute_result"
    }
   ],
   "source": [
    "df3[\"createdDate\"].value_counts()"
   ]
  },
  {
   "cell_type": "code",
   "execution_count": 131,
   "id": "50627cd4",
   "metadata": {},
   "outputs": [
    {
     "data": {
      "text/plain": [
       "0      1609687444800\n",
       "1      1609687444800\n",
       "2      1609687444800\n",
       "3      1609687530554\n",
       "4      1609687444800\n",
       "           ...      \n",
       "490    1418998882381\n",
       "491    1418998882381\n",
       "492    1418998882381\n",
       "493    1418998882381\n",
       "494    1418998882381\n",
       "Name: createdDate, Length: 495, dtype: int64"
      ]
     },
     "execution_count": 131,
     "metadata": {},
     "output_type": "execute_result"
    }
   ],
   "source": [
    "df3[\"createdDate\"].apply(lambda x : x[\"$date\"] if type(x)== dict else x)"
   ]
  },
  {
   "cell_type": "code",
   "execution_count": 132,
   "id": "fb1347df",
   "metadata": {},
   "outputs": [],
   "source": [
    "df3[\"createdDate\"]= df3[\"createdDate\"].apply(lambda x : x[\"$date\"] if type(x)== dict else x)"
   ]
  },
  {
   "cell_type": "code",
   "execution_count": 133,
   "id": "382a2cb7",
   "metadata": {},
   "outputs": [
    {
     "data": {
      "text/plain": [
       "1418998882381    20\n",
       "1607033283936    20\n",
       "1609945434680    18\n",
       "1604589429396    18\n",
       "1505830074302    18\n",
       "                 ..\n",
       "1610918245327     1\n",
       "1611089661274     1\n",
       "1611090841809     1\n",
       "1611088455284     1\n",
       "1611173469989     1\n",
       "Name: createdDate, Length: 212, dtype: int64"
      ]
     },
     "execution_count": 133,
     "metadata": {},
     "output_type": "execute_result"
    }
   ],
   "source": [
    "df3[\"createdDate\"].value_counts()"
   ]
  },
  {
   "cell_type": "code",
   "execution_count": 134,
   "id": "2be7f54e",
   "metadata": {},
   "outputs": [],
   "source": [
    "df3['createdDate']= pd.to_datetime(df3['createdDate'])"
   ]
  },
  {
   "cell_type": "code",
   "execution_count": 135,
   "id": "eb242254",
   "metadata": {},
   "outputs": [],
   "source": [
    "df3.createdDate= pd.to_datetime(df3['createdDate']) "
   ]
  },
  {
   "cell_type": "code",
   "execution_count": null,
   "id": "be4052a7",
   "metadata": {},
   "outputs": [],
   "source": []
  },
  {
   "cell_type": "markdown",
   "id": "030a90d6",
   "metadata": {},
   "source": [
    "lastLogin"
   ]
  },
  {
   "cell_type": "code",
   "execution_count": 136,
   "id": "cbc1bca7",
   "metadata": {},
   "outputs": [
    {
     "data": {
      "text/plain": [
       "{'$date': 1614963143204}    20\n",
       "{'$date': 1614379156799}    20\n",
       "{'$date': 1609945690009}    18\n",
       "{'$date': 1614873722026}    18\n",
       "{'$date': 1612802578117}    18\n",
       "                            ..\n",
       "{'$date': 1610667194903}     1\n",
       "{'$date': 1610557170567}     1\n",
       "{'$date': 1610557119463}     1\n",
       "{'$date': 1610566773163}     1\n",
       "{'$date': 1611160614993}     1\n",
       "Name: lastLogin, Length: 172, dtype: int64"
      ]
     },
     "execution_count": 136,
     "metadata": {},
     "output_type": "execute_result"
    }
   ],
   "source": [
    "df3[\"lastLogin\"].value_counts()"
   ]
  },
  {
   "cell_type": "code",
   "execution_count": 137,
   "id": "53d54714",
   "metadata": {},
   "outputs": [],
   "source": [
    "df3[\"lastLogin\"]= df3[\"lastLogin\"].apply(lambda x : x[\"$date\"] if type(x)== dict else x)"
   ]
  },
  {
   "cell_type": "code",
   "execution_count": 138,
   "id": "f5c53550",
   "metadata": {},
   "outputs": [
    {
     "data": {
      "text/plain": [
       "1.614963e+12    20\n",
       "1.614379e+12    20\n",
       "1.609946e+12    18\n",
       "1.614874e+12    18\n",
       "1.612803e+12    18\n",
       "                ..\n",
       "1.610667e+12     1\n",
       "1.610557e+12     1\n",
       "1.610557e+12     1\n",
       "1.610567e+12     1\n",
       "1.611161e+12     1\n",
       "Name: lastLogin, Length: 172, dtype: int64"
      ]
     },
     "execution_count": 138,
     "metadata": {},
     "output_type": "execute_result"
    }
   ],
   "source": [
    "df3[\"lastLogin\"].value_counts()"
   ]
  },
  {
   "cell_type": "code",
   "execution_count": 139,
   "id": "fb5c3db7",
   "metadata": {},
   "outputs": [],
   "source": [
    "df3['lastLogin']= pd.to_datetime(df3['lastLogin'])"
   ]
  },
  {
   "cell_type": "code",
   "execution_count": 141,
   "id": "d879c2bf",
   "metadata": {},
   "outputs": [],
   "source": [
    "df3.lastLogin= pd.to_datetime(df3['lastLogin']) "
   ]
  },
  {
   "cell_type": "code",
   "execution_count": null,
   "id": "613fd9cd",
   "metadata": {},
   "outputs": [],
   "source": []
  },
  {
   "cell_type": "markdown",
   "id": "dbe692d1",
   "metadata": {},
   "source": [
    "role"
   ]
  },
  {
   "cell_type": "code",
   "execution_count": 142,
   "id": "fd46fca5",
   "metadata": {},
   "outputs": [
    {
     "data": {
      "text/plain": [
       "0         consumer\n",
       "1         consumer\n",
       "2         consumer\n",
       "3         consumer\n",
       "4         consumer\n",
       "          ...     \n",
       "490    fetch-staff\n",
       "491    fetch-staff\n",
       "492    fetch-staff\n",
       "493    fetch-staff\n",
       "494    fetch-staff\n",
       "Name: role, Length: 495, dtype: object"
      ]
     },
     "execution_count": 142,
     "metadata": {},
     "output_type": "execute_result"
    }
   ],
   "source": [
    "df3[\"role\"]"
   ]
  },
  {
   "cell_type": "code",
   "execution_count": 143,
   "id": "9bed95d8",
   "metadata": {},
   "outputs": [
    {
     "data": {
      "text/plain": [
       "consumer       413\n",
       "fetch-staff     82\n",
       "Name: role, dtype: int64"
      ]
     },
     "execution_count": 143,
     "metadata": {},
     "output_type": "execute_result"
    }
   ],
   "source": [
    "df3.role.value_counts()"
   ]
  },
  {
   "cell_type": "code",
   "execution_count": 144,
   "id": "5707963c",
   "metadata": {},
   "outputs": [
    {
     "data": {
      "text/html": [
       "<div>\n",
       "<style scoped>\n",
       "    .dataframe tbody tr th:only-of-type {\n",
       "        vertical-align: middle;\n",
       "    }\n",
       "\n",
       "    .dataframe tbody tr th {\n",
       "        vertical-align: top;\n",
       "    }\n",
       "\n",
       "    .dataframe thead th {\n",
       "        text-align: right;\n",
       "    }\n",
       "</style>\n",
       "<table border=\"1\" class=\"dataframe\">\n",
       "  <thead>\n",
       "    <tr style=\"text-align: right;\">\n",
       "      <th></th>\n",
       "      <th>_id</th>\n",
       "      <th>active</th>\n",
       "      <th>createdDate</th>\n",
       "      <th>lastLogin</th>\n",
       "      <th>role</th>\n",
       "      <th>signUpSource</th>\n",
       "      <th>state</th>\n",
       "    </tr>\n",
       "  </thead>\n",
       "  <tbody>\n",
       "    <tr>\n",
       "      <th>0</th>\n",
       "      <td>5ff1e194b6a9d73a3a9f1052</td>\n",
       "      <td>True</td>\n",
       "      <td>1970-01-01 00:26:49.687444800</td>\n",
       "      <td>1970-01-01 00:26:49.687537858</td>\n",
       "      <td>consumer</td>\n",
       "      <td>Email</td>\n",
       "      <td>WI</td>\n",
       "    </tr>\n",
       "    <tr>\n",
       "      <th>1</th>\n",
       "      <td>5ff1e194b6a9d73a3a9f1052</td>\n",
       "      <td>True</td>\n",
       "      <td>1970-01-01 00:26:49.687444800</td>\n",
       "      <td>1970-01-01 00:26:49.687537858</td>\n",
       "      <td>consumer</td>\n",
       "      <td>Email</td>\n",
       "      <td>WI</td>\n",
       "    </tr>\n",
       "    <tr>\n",
       "      <th>2</th>\n",
       "      <td>5ff1e194b6a9d73a3a9f1052</td>\n",
       "      <td>True</td>\n",
       "      <td>1970-01-01 00:26:49.687444800</td>\n",
       "      <td>1970-01-01 00:26:49.687537858</td>\n",
       "      <td>consumer</td>\n",
       "      <td>Email</td>\n",
       "      <td>WI</td>\n",
       "    </tr>\n",
       "    <tr>\n",
       "      <th>3</th>\n",
       "      <td>5ff1e1eacfcf6c399c274ae6</td>\n",
       "      <td>True</td>\n",
       "      <td>1970-01-01 00:26:49.687530554</td>\n",
       "      <td>1970-01-01 00:26:49.687530597</td>\n",
       "      <td>consumer</td>\n",
       "      <td>Email</td>\n",
       "      <td>WI</td>\n",
       "    </tr>\n",
       "    <tr>\n",
       "      <th>4</th>\n",
       "      <td>5ff1e194b6a9d73a3a9f1052</td>\n",
       "      <td>True</td>\n",
       "      <td>1970-01-01 00:26:49.687444800</td>\n",
       "      <td>1970-01-01 00:26:49.687537858</td>\n",
       "      <td>consumer</td>\n",
       "      <td>Email</td>\n",
       "      <td>WI</td>\n",
       "    </tr>\n",
       "    <tr>\n",
       "      <th>...</th>\n",
       "      <td>...</td>\n",
       "      <td>...</td>\n",
       "      <td>...</td>\n",
       "      <td>...</td>\n",
       "      <td>...</td>\n",
       "      <td>...</td>\n",
       "      <td>...</td>\n",
       "    </tr>\n",
       "    <tr>\n",
       "      <th>490</th>\n",
       "      <td>54943462e4b07e684157a532</td>\n",
       "      <td>True</td>\n",
       "      <td>1970-01-01 00:23:38.998882381</td>\n",
       "      <td>1970-01-01 00:26:54.963143204</td>\n",
       "      <td>fetch-staff</td>\n",
       "      <td>NaN</td>\n",
       "      <td>NaN</td>\n",
       "    </tr>\n",
       "    <tr>\n",
       "      <th>491</th>\n",
       "      <td>54943462e4b07e684157a532</td>\n",
       "      <td>True</td>\n",
       "      <td>1970-01-01 00:23:38.998882381</td>\n",
       "      <td>1970-01-01 00:26:54.963143204</td>\n",
       "      <td>fetch-staff</td>\n",
       "      <td>NaN</td>\n",
       "      <td>NaN</td>\n",
       "    </tr>\n",
       "    <tr>\n",
       "      <th>492</th>\n",
       "      <td>54943462e4b07e684157a532</td>\n",
       "      <td>True</td>\n",
       "      <td>1970-01-01 00:23:38.998882381</td>\n",
       "      <td>1970-01-01 00:26:54.963143204</td>\n",
       "      <td>fetch-staff</td>\n",
       "      <td>NaN</td>\n",
       "      <td>NaN</td>\n",
       "    </tr>\n",
       "    <tr>\n",
       "      <th>493</th>\n",
       "      <td>54943462e4b07e684157a532</td>\n",
       "      <td>True</td>\n",
       "      <td>1970-01-01 00:23:38.998882381</td>\n",
       "      <td>1970-01-01 00:26:54.963143204</td>\n",
       "      <td>fetch-staff</td>\n",
       "      <td>NaN</td>\n",
       "      <td>NaN</td>\n",
       "    </tr>\n",
       "    <tr>\n",
       "      <th>494</th>\n",
       "      <td>54943462e4b07e684157a532</td>\n",
       "      <td>True</td>\n",
       "      <td>1970-01-01 00:23:38.998882381</td>\n",
       "      <td>1970-01-01 00:26:54.963143204</td>\n",
       "      <td>fetch-staff</td>\n",
       "      <td>NaN</td>\n",
       "      <td>NaN</td>\n",
       "    </tr>\n",
       "  </tbody>\n",
       "</table>\n",
       "<p>495 rows × 7 columns</p>\n",
       "</div>"
      ],
      "text/plain": [
       "                          _id  active                   createdDate  \\\n",
       "0    5ff1e194b6a9d73a3a9f1052    True 1970-01-01 00:26:49.687444800   \n",
       "1    5ff1e194b6a9d73a3a9f1052    True 1970-01-01 00:26:49.687444800   \n",
       "2    5ff1e194b6a9d73a3a9f1052    True 1970-01-01 00:26:49.687444800   \n",
       "3    5ff1e1eacfcf6c399c274ae6    True 1970-01-01 00:26:49.687530554   \n",
       "4    5ff1e194b6a9d73a3a9f1052    True 1970-01-01 00:26:49.687444800   \n",
       "..                        ...     ...                           ...   \n",
       "490  54943462e4b07e684157a532    True 1970-01-01 00:23:38.998882381   \n",
       "491  54943462e4b07e684157a532    True 1970-01-01 00:23:38.998882381   \n",
       "492  54943462e4b07e684157a532    True 1970-01-01 00:23:38.998882381   \n",
       "493  54943462e4b07e684157a532    True 1970-01-01 00:23:38.998882381   \n",
       "494  54943462e4b07e684157a532    True 1970-01-01 00:23:38.998882381   \n",
       "\n",
       "                        lastLogin         role signUpSource state  \n",
       "0   1970-01-01 00:26:49.687537858     consumer        Email    WI  \n",
       "1   1970-01-01 00:26:49.687537858     consumer        Email    WI  \n",
       "2   1970-01-01 00:26:49.687537858     consumer        Email    WI  \n",
       "3   1970-01-01 00:26:49.687530597     consumer        Email    WI  \n",
       "4   1970-01-01 00:26:49.687537858     consumer        Email    WI  \n",
       "..                            ...          ...          ...   ...  \n",
       "490 1970-01-01 00:26:54.963143204  fetch-staff          NaN   NaN  \n",
       "491 1970-01-01 00:26:54.963143204  fetch-staff          NaN   NaN  \n",
       "492 1970-01-01 00:26:54.963143204  fetch-staff          NaN   NaN  \n",
       "493 1970-01-01 00:26:54.963143204  fetch-staff          NaN   NaN  \n",
       "494 1970-01-01 00:26:54.963143204  fetch-staff          NaN   NaN  \n",
       "\n",
       "[495 rows x 7 columns]"
      ]
     },
     "execution_count": 144,
     "metadata": {},
     "output_type": "execute_result"
    }
   ],
   "source": [
    "df3"
   ]
  },
  {
   "cell_type": "code",
   "execution_count": 145,
   "id": "804b5519",
   "metadata": {},
   "outputs": [
    {
     "data": {
      "text/html": [
       "<div>\n",
       "<style scoped>\n",
       "    .dataframe tbody tr th:only-of-type {\n",
       "        vertical-align: middle;\n",
       "    }\n",
       "\n",
       "    .dataframe tbody tr th {\n",
       "        vertical-align: top;\n",
       "    }\n",
       "\n",
       "    .dataframe thead th {\n",
       "        text-align: right;\n",
       "    }\n",
       "</style>\n",
       "<table border=\"1\" class=\"dataframe\">\n",
       "  <thead>\n",
       "    <tr style=\"text-align: right;\">\n",
       "      <th></th>\n",
       "      <th>_id</th>\n",
       "      <th>barcode</th>\n",
       "      <th>category</th>\n",
       "      <th>cpg</th>\n",
       "      <th>name</th>\n",
       "      <th>topBrand</th>\n",
       "    </tr>\n",
       "  </thead>\n",
       "  <tbody>\n",
       "    <tr>\n",
       "      <th>0</th>\n",
       "      <td>601ac115be37ce2ead437551</td>\n",
       "      <td>511111019862</td>\n",
       "      <td>Baking</td>\n",
       "      <td>601ac114be37ce2ead437550</td>\n",
       "      <td>test brand</td>\n",
       "      <td>0.0</td>\n",
       "    </tr>\n",
       "    <tr>\n",
       "      <th>1</th>\n",
       "      <td>601c5460be37ce2ead43755f</td>\n",
       "      <td>511111519928</td>\n",
       "      <td>Beverages</td>\n",
       "      <td>5332f5fbe4b03c9a25efd0ba</td>\n",
       "      <td>Starbucks</td>\n",
       "      <td>0.0</td>\n",
       "    </tr>\n",
       "    <tr>\n",
       "      <th>2</th>\n",
       "      <td>601ac142be37ce2ead43755d</td>\n",
       "      <td>511111819905</td>\n",
       "      <td>Baking</td>\n",
       "      <td>601ac142be37ce2ead437559</td>\n",
       "      <td>test brand</td>\n",
       "      <td>0.0</td>\n",
       "    </tr>\n",
       "    <tr>\n",
       "      <th>3</th>\n",
       "      <td>601ac142be37ce2ead43755a</td>\n",
       "      <td>511111519874</td>\n",
       "      <td>Baking</td>\n",
       "      <td>601ac142be37ce2ead437559</td>\n",
       "      <td>test brand</td>\n",
       "      <td>0.0</td>\n",
       "    </tr>\n",
       "    <tr>\n",
       "      <th>4</th>\n",
       "      <td>601ac142be37ce2ead43755e</td>\n",
       "      <td>511111319917</td>\n",
       "      <td>Candy &amp; Sweets</td>\n",
       "      <td>5332fa12e4b03c9a25efd1e7</td>\n",
       "      <td>test brand</td>\n",
       "      <td>0.0</td>\n",
       "    </tr>\n",
       "    <tr>\n",
       "      <th>...</th>\n",
       "      <td>...</td>\n",
       "      <td>...</td>\n",
       "      <td>...</td>\n",
       "      <td>...</td>\n",
       "      <td>...</td>\n",
       "      <td>...</td>\n",
       "    </tr>\n",
       "    <tr>\n",
       "      <th>1162</th>\n",
       "      <td>5f77274dbe37ce6b592e90c0</td>\n",
       "      <td>511111116752</td>\n",
       "      <td>Baking</td>\n",
       "      <td>5f77274dbe37ce6b592e90bf</td>\n",
       "      <td>test brand</td>\n",
       "      <td>NaN</td>\n",
       "    </tr>\n",
       "    <tr>\n",
       "      <th>1163</th>\n",
       "      <td>5dc1fca91dda2c0ad7da64ae</td>\n",
       "      <td>511111706328</td>\n",
       "      <td>Breakfast &amp; Cereal</td>\n",
       "      <td>53e10d6368abd3c7065097cc</td>\n",
       "      <td>Dippin Dots® Cereal</td>\n",
       "      <td>NaN</td>\n",
       "    </tr>\n",
       "    <tr>\n",
       "      <th>1164</th>\n",
       "      <td>5f494c6e04db711dd8fe87e7</td>\n",
       "      <td>511111416173</td>\n",
       "      <td>Candy &amp; Sweets</td>\n",
       "      <td>5332fa12e4b03c9a25efd1e7</td>\n",
       "      <td>test brand</td>\n",
       "      <td>NaN</td>\n",
       "    </tr>\n",
       "    <tr>\n",
       "      <th>1165</th>\n",
       "      <td>5a021611e4b00efe02b02a57</td>\n",
       "      <td>511111400608</td>\n",
       "      <td>Grocery</td>\n",
       "      <td>5332f5f6e4b03c9a25efd0b4</td>\n",
       "      <td>LIPTON TEA Leaves</td>\n",
       "      <td>0.0</td>\n",
       "    </tr>\n",
       "    <tr>\n",
       "      <th>1166</th>\n",
       "      <td>6026d757be37ce6369301468</td>\n",
       "      <td>511111019930</td>\n",
       "      <td>Baking</td>\n",
       "      <td>6026d757be37ce6369301467</td>\n",
       "      <td>test brand</td>\n",
       "      <td>0.0</td>\n",
       "    </tr>\n",
       "  </tbody>\n",
       "</table>\n",
       "<p>1167 rows × 6 columns</p>\n",
       "</div>"
      ],
      "text/plain": [
       "                           _id       barcode            category  \\\n",
       "0     601ac115be37ce2ead437551  511111019862              Baking   \n",
       "1     601c5460be37ce2ead43755f  511111519928           Beverages   \n",
       "2     601ac142be37ce2ead43755d  511111819905              Baking   \n",
       "3     601ac142be37ce2ead43755a  511111519874              Baking   \n",
       "4     601ac142be37ce2ead43755e  511111319917      Candy & Sweets   \n",
       "...                        ...           ...                 ...   \n",
       "1162  5f77274dbe37ce6b592e90c0  511111116752              Baking   \n",
       "1163  5dc1fca91dda2c0ad7da64ae  511111706328  Breakfast & Cereal   \n",
       "1164  5f494c6e04db711dd8fe87e7  511111416173      Candy & Sweets   \n",
       "1165  5a021611e4b00efe02b02a57  511111400608             Grocery   \n",
       "1166  6026d757be37ce6369301468  511111019930              Baking   \n",
       "\n",
       "                           cpg                 name  topBrand  \n",
       "0     601ac114be37ce2ead437550          test brand        0.0  \n",
       "1     5332f5fbe4b03c9a25efd0ba            Starbucks       0.0  \n",
       "2     601ac142be37ce2ead437559          test brand        0.0  \n",
       "3     601ac142be37ce2ead437559          test brand        0.0  \n",
       "4     5332fa12e4b03c9a25efd1e7          test brand        0.0  \n",
       "...                        ...                  ...       ...  \n",
       "1162  5f77274dbe37ce6b592e90bf          test brand        NaN  \n",
       "1163  53e10d6368abd3c7065097cc  Dippin Dots® Cereal       NaN  \n",
       "1164  5332fa12e4b03c9a25efd1e7          test brand        NaN  \n",
       "1165  5332f5f6e4b03c9a25efd0b4    LIPTON TEA Leaves       0.0  \n",
       "1166  6026d757be37ce6369301467          test brand        0.0  \n",
       "\n",
       "[1167 rows x 6 columns]"
      ]
     },
     "execution_count": 145,
     "metadata": {},
     "output_type": "execute_result"
    }
   ],
   "source": [
    "df1"
   ]
  },
  {
   "cell_type": "code",
   "execution_count": 146,
   "id": "3c1bd020",
   "metadata": {
    "scrolled": true
   },
   "outputs": [
    {
     "data": {
      "text/html": [
       "<div>\n",
       "<style scoped>\n",
       "    .dataframe tbody tr th:only-of-type {\n",
       "        vertical-align: middle;\n",
       "    }\n",
       "\n",
       "    .dataframe tbody tr th {\n",
       "        vertical-align: top;\n",
       "    }\n",
       "\n",
       "    .dataframe thead th {\n",
       "        text-align: right;\n",
       "    }\n",
       "</style>\n",
       "<table border=\"1\" class=\"dataframe\">\n",
       "  <thead>\n",
       "    <tr style=\"text-align: right;\">\n",
       "      <th></th>\n",
       "      <th>_id</th>\n",
       "      <th>bonusPointsEarned</th>\n",
       "      <th>bonusPointsEarnedReason</th>\n",
       "      <th>createDate</th>\n",
       "      <th>finishedDate</th>\n",
       "      <th>modifyDate</th>\n",
       "      <th>pointsAwardedDate</th>\n",
       "      <th>pointsEarned</th>\n",
       "      <th>purchaseDate</th>\n",
       "      <th>purchasedItemCount</th>\n",
       "      <th>rewardsReceiptStatus</th>\n",
       "      <th>totalSpent</th>\n",
       "    </tr>\n",
       "  </thead>\n",
       "  <tbody>\n",
       "    <tr>\n",
       "      <th>0</th>\n",
       "      <td>5ff1e1eb0a720f0523000575</td>\n",
       "      <td>500.0</td>\n",
       "      <td>Receipt number 2 completed, bonus point schedu...</td>\n",
       "      <td>1970-01-01 00:26:49.687531000</td>\n",
       "      <td>1970-01-01 00:26:49.687531</td>\n",
       "      <td>1970-01-01 00:26:49.687536000</td>\n",
       "      <td>1970-01-01 00:26:49.687531</td>\n",
       "      <td>500.0</td>\n",
       "      <td>1970-01-01 00:26:49.632000</td>\n",
       "      <td>5.0</td>\n",
       "      <td>FINISHED</td>\n",
       "      <td>26.00</td>\n",
       "    </tr>\n",
       "    <tr>\n",
       "      <th>1</th>\n",
       "      <td>5ff1e1bb0a720f052300056b</td>\n",
       "      <td>150.0</td>\n",
       "      <td>Receipt number 5 completed, bonus point schedu...</td>\n",
       "      <td>1970-01-01 00:26:49.687483000</td>\n",
       "      <td>1970-01-01 00:26:49.687483</td>\n",
       "      <td>1970-01-01 00:26:49.687488000</td>\n",
       "      <td>1970-01-01 00:26:49.687483</td>\n",
       "      <td>150.0</td>\n",
       "      <td>1970-01-01 00:26:49.601083</td>\n",
       "      <td>2.0</td>\n",
       "      <td>FINISHED</td>\n",
       "      <td>11.00</td>\n",
       "    </tr>\n",
       "    <tr>\n",
       "      <th>2</th>\n",
       "      <td>5ff1e1f10a720f052300057a</td>\n",
       "      <td>5.0</td>\n",
       "      <td>All-receipts receipt bonus</td>\n",
       "      <td>1970-01-01 00:26:49.687537000</td>\n",
       "      <td>NaT</td>\n",
       "      <td>1970-01-01 00:26:49.687542000</td>\n",
       "      <td>NaT</td>\n",
       "      <td>5.0</td>\n",
       "      <td>1970-01-01 00:26:49.632000</td>\n",
       "      <td>1.0</td>\n",
       "      <td>REJECTED</td>\n",
       "      <td>10.00</td>\n",
       "    </tr>\n",
       "    <tr>\n",
       "      <th>3</th>\n",
       "      <td>5ff1e1ee0a7214ada100056f</td>\n",
       "      <td>5.0</td>\n",
       "      <td>All-receipts receipt bonus</td>\n",
       "      <td>1970-01-01 00:26:49.687534000</td>\n",
       "      <td>1970-01-01 00:26:49.687534</td>\n",
       "      <td>1970-01-01 00:26:49.687539000</td>\n",
       "      <td>1970-01-01 00:26:49.687534</td>\n",
       "      <td>5.0</td>\n",
       "      <td>1970-01-01 00:26:49.632000</td>\n",
       "      <td>4.0</td>\n",
       "      <td>FINISHED</td>\n",
       "      <td>28.00</td>\n",
       "    </tr>\n",
       "    <tr>\n",
       "      <th>4</th>\n",
       "      <td>5ff1e1d20a7214ada1000561</td>\n",
       "      <td>5.0</td>\n",
       "      <td>All-receipts receipt bonus</td>\n",
       "      <td>1970-01-01 00:26:49.687506000</td>\n",
       "      <td>1970-01-01 00:26:49.687511</td>\n",
       "      <td>1970-01-01 00:26:49.687511000</td>\n",
       "      <td>1970-01-01 00:26:49.687506</td>\n",
       "      <td>5.0</td>\n",
       "      <td>1970-01-01 00:26:49.601106</td>\n",
       "      <td>2.0</td>\n",
       "      <td>FINISHED</td>\n",
       "      <td>1.00</td>\n",
       "    </tr>\n",
       "    <tr>\n",
       "      <th>...</th>\n",
       "      <td>...</td>\n",
       "      <td>...</td>\n",
       "      <td>...</td>\n",
       "      <td>...</td>\n",
       "      <td>...</td>\n",
       "      <td>...</td>\n",
       "      <td>...</td>\n",
       "      <td>...</td>\n",
       "      <td>...</td>\n",
       "      <td>...</td>\n",
       "      <td>...</td>\n",
       "      <td>...</td>\n",
       "    </tr>\n",
       "    <tr>\n",
       "      <th>1114</th>\n",
       "      <td>603cc0630a720fde100003e6</td>\n",
       "      <td>25.0</td>\n",
       "      <td>COMPLETE_NONPARTNER_RECEIPT</td>\n",
       "      <td>1970-01-01 00:26:54.594147000</td>\n",
       "      <td>NaT</td>\n",
       "      <td>1970-01-01 00:26:54.594148000</td>\n",
       "      <td>NaT</td>\n",
       "      <td>25.0</td>\n",
       "      <td>1970-01-01 00:26:37.622400</td>\n",
       "      <td>2.0</td>\n",
       "      <td>REJECTED</td>\n",
       "      <td>34.96</td>\n",
       "    </tr>\n",
       "    <tr>\n",
       "      <th>1115</th>\n",
       "      <td>603d0b710a720fde1000042a</td>\n",
       "      <td>NaN</td>\n",
       "      <td>NaN</td>\n",
       "      <td>1970-01-01 00:26:54.613361873</td>\n",
       "      <td>NaT</td>\n",
       "      <td>1970-01-01 00:26:54.613361873</td>\n",
       "      <td>NaT</td>\n",
       "      <td>NaN</td>\n",
       "      <td>NaT</td>\n",
       "      <td>NaN</td>\n",
       "      <td>SUBMITTED</td>\n",
       "      <td>NaN</td>\n",
       "    </tr>\n",
       "    <tr>\n",
       "      <th>1116</th>\n",
       "      <td>603cf5290a720fde10000413</td>\n",
       "      <td>NaN</td>\n",
       "      <td>NaN</td>\n",
       "      <td>1970-01-01 00:26:54.607657664</td>\n",
       "      <td>NaT</td>\n",
       "      <td>1970-01-01 00:26:54.607657664</td>\n",
       "      <td>NaT</td>\n",
       "      <td>NaN</td>\n",
       "      <td>NaT</td>\n",
       "      <td>NaN</td>\n",
       "      <td>SUBMITTED</td>\n",
       "      <td>NaN</td>\n",
       "    </tr>\n",
       "    <tr>\n",
       "      <th>1117</th>\n",
       "      <td>603ce7100a7217c72c000405</td>\n",
       "      <td>25.0</td>\n",
       "      <td>COMPLETE_NONPARTNER_RECEIPT</td>\n",
       "      <td>1970-01-01 00:26:54.604048000</td>\n",
       "      <td>NaT</td>\n",
       "      <td>1970-01-01 00:26:54.604049000</td>\n",
       "      <td>NaT</td>\n",
       "      <td>25.0</td>\n",
       "      <td>1970-01-01 00:26:37.622400</td>\n",
       "      <td>2.0</td>\n",
       "      <td>REJECTED</td>\n",
       "      <td>34.96</td>\n",
       "    </tr>\n",
       "    <tr>\n",
       "      <th>1118</th>\n",
       "      <td>603c4fea0a7217c72c000389</td>\n",
       "      <td>NaN</td>\n",
       "      <td>NaN</td>\n",
       "      <td>1970-01-01 00:26:54.565354962</td>\n",
       "      <td>NaT</td>\n",
       "      <td>1970-01-01 00:26:54.565354962</td>\n",
       "      <td>NaT</td>\n",
       "      <td>NaN</td>\n",
       "      <td>NaT</td>\n",
       "      <td>NaN</td>\n",
       "      <td>SUBMITTED</td>\n",
       "      <td>NaN</td>\n",
       "    </tr>\n",
       "  </tbody>\n",
       "</table>\n",
       "<p>1119 rows × 12 columns</p>\n",
       "</div>"
      ],
      "text/plain": [
       "                           _id  bonusPointsEarned  \\\n",
       "0     5ff1e1eb0a720f0523000575              500.0   \n",
       "1     5ff1e1bb0a720f052300056b              150.0   \n",
       "2     5ff1e1f10a720f052300057a                5.0   \n",
       "3     5ff1e1ee0a7214ada100056f                5.0   \n",
       "4     5ff1e1d20a7214ada1000561                5.0   \n",
       "...                        ...                ...   \n",
       "1114  603cc0630a720fde100003e6               25.0   \n",
       "1115  603d0b710a720fde1000042a                NaN   \n",
       "1116  603cf5290a720fde10000413                NaN   \n",
       "1117  603ce7100a7217c72c000405               25.0   \n",
       "1118  603c4fea0a7217c72c000389                NaN   \n",
       "\n",
       "                                bonusPointsEarnedReason  \\\n",
       "0     Receipt number 2 completed, bonus point schedu...   \n",
       "1     Receipt number 5 completed, bonus point schedu...   \n",
       "2                            All-receipts receipt bonus   \n",
       "3                            All-receipts receipt bonus   \n",
       "4                            All-receipts receipt bonus   \n",
       "...                                                 ...   \n",
       "1114                        COMPLETE_NONPARTNER_RECEIPT   \n",
       "1115                                                NaN   \n",
       "1116                                                NaN   \n",
       "1117                        COMPLETE_NONPARTNER_RECEIPT   \n",
       "1118                                                NaN   \n",
       "\n",
       "                        createDate               finishedDate  \\\n",
       "0    1970-01-01 00:26:49.687531000 1970-01-01 00:26:49.687531   \n",
       "1    1970-01-01 00:26:49.687483000 1970-01-01 00:26:49.687483   \n",
       "2    1970-01-01 00:26:49.687537000                        NaT   \n",
       "3    1970-01-01 00:26:49.687534000 1970-01-01 00:26:49.687534   \n",
       "4    1970-01-01 00:26:49.687506000 1970-01-01 00:26:49.687511   \n",
       "...                            ...                        ...   \n",
       "1114 1970-01-01 00:26:54.594147000                        NaT   \n",
       "1115 1970-01-01 00:26:54.613361873                        NaT   \n",
       "1116 1970-01-01 00:26:54.607657664                        NaT   \n",
       "1117 1970-01-01 00:26:54.604048000                        NaT   \n",
       "1118 1970-01-01 00:26:54.565354962                        NaT   \n",
       "\n",
       "                        modifyDate          pointsAwardedDate  pointsEarned  \\\n",
       "0    1970-01-01 00:26:49.687536000 1970-01-01 00:26:49.687531         500.0   \n",
       "1    1970-01-01 00:26:49.687488000 1970-01-01 00:26:49.687483         150.0   \n",
       "2    1970-01-01 00:26:49.687542000                        NaT           5.0   \n",
       "3    1970-01-01 00:26:49.687539000 1970-01-01 00:26:49.687534           5.0   \n",
       "4    1970-01-01 00:26:49.687511000 1970-01-01 00:26:49.687506           5.0   \n",
       "...                            ...                        ...           ...   \n",
       "1114 1970-01-01 00:26:54.594148000                        NaT          25.0   \n",
       "1115 1970-01-01 00:26:54.613361873                        NaT           NaN   \n",
       "1116 1970-01-01 00:26:54.607657664                        NaT           NaN   \n",
       "1117 1970-01-01 00:26:54.604049000                        NaT          25.0   \n",
       "1118 1970-01-01 00:26:54.565354962                        NaT           NaN   \n",
       "\n",
       "                   purchaseDate  purchasedItemCount rewardsReceiptStatus  \\\n",
       "0    1970-01-01 00:26:49.632000                 5.0             FINISHED   \n",
       "1    1970-01-01 00:26:49.601083                 2.0             FINISHED   \n",
       "2    1970-01-01 00:26:49.632000                 1.0             REJECTED   \n",
       "3    1970-01-01 00:26:49.632000                 4.0             FINISHED   \n",
       "4    1970-01-01 00:26:49.601106                 2.0             FINISHED   \n",
       "...                         ...                 ...                  ...   \n",
       "1114 1970-01-01 00:26:37.622400                 2.0             REJECTED   \n",
       "1115                        NaT                 NaN            SUBMITTED   \n",
       "1116                        NaT                 NaN            SUBMITTED   \n",
       "1117 1970-01-01 00:26:37.622400                 2.0             REJECTED   \n",
       "1118                        NaT                 NaN            SUBMITTED   \n",
       "\n",
       "      totalSpent  \n",
       "0          26.00  \n",
       "1          11.00  \n",
       "2          10.00  \n",
       "3          28.00  \n",
       "4           1.00  \n",
       "...          ...  \n",
       "1114       34.96  \n",
       "1115         NaN  \n",
       "1116         NaN  \n",
       "1117       34.96  \n",
       "1118         NaN  \n",
       "\n",
       "[1119 rows x 12 columns]"
      ]
     },
     "execution_count": 146,
     "metadata": {},
     "output_type": "execute_result"
    }
   ],
   "source": [
    "df2"
   ]
  },
  {
   "cell_type": "code",
   "execution_count": 147,
   "id": "492250d4",
   "metadata": {},
   "outputs": [],
   "source": [
    "df1.to_csv(\"brands.csv\", index=False)"
   ]
  },
  {
   "cell_type": "code",
   "execution_count": 148,
   "id": "5e099043",
   "metadata": {},
   "outputs": [],
   "source": [
    "df2.to_csv(\"receipts.csv\", index=False)"
   ]
  },
  {
   "cell_type": "code",
   "execution_count": 149,
   "id": "be985b44",
   "metadata": {},
   "outputs": [],
   "source": [
    "df3.to_csv(\"users.csv\", index=False)"
   ]
  },
  {
   "cell_type": "code",
   "execution_count": null,
   "id": "bcbe6ebe",
   "metadata": {},
   "outputs": [],
   "source": []
  },
  {
   "cell_type": "code",
   "execution_count": null,
   "id": "e2573395",
   "metadata": {},
   "outputs": [],
   "source": []
  },
  {
   "cell_type": "code",
   "execution_count": null,
   "id": "25aff500",
   "metadata": {},
   "outputs": [],
   "source": []
  },
  {
   "cell_type": "code",
   "execution_count": null,
   "id": "611b7a4c",
   "metadata": {},
   "outputs": [],
   "source": []
  },
  {
   "cell_type": "code",
   "execution_count": null,
   "id": "3fce6ae0",
   "metadata": {},
   "outputs": [],
   "source": []
  },
  {
   "cell_type": "code",
   "execution_count": null,
   "id": "da772cee",
   "metadata": {},
   "outputs": [],
   "source": []
  },
  {
   "cell_type": "code",
   "execution_count": null,
   "id": "4e64dc84",
   "metadata": {},
   "outputs": [],
   "source": []
  },
  {
   "cell_type": "code",
   "execution_count": null,
   "id": "5c7cf671",
   "metadata": {},
   "outputs": [],
   "source": []
  }
 ],
 "metadata": {
  "kernelspec": {
   "display_name": "Python 3",
   "language": "python",
   "name": "python3"
  },
  "language_info": {
   "codemirror_mode": {
    "name": "ipython",
    "version": 3
   },
   "file_extension": ".py",
   "mimetype": "text/x-python",
   "name": "python",
   "nbconvert_exporter": "python",
   "pygments_lexer": "ipython3",
   "version": "3.8.8"
  }
 },
 "nbformat": 4,
 "nbformat_minor": 5
}
